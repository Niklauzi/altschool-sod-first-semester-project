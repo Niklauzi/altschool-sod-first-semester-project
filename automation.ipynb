{
 "cells": [
  {
   "cell_type": "markdown",
   "id": "6cf280c2",
   "metadata": {},
   "source": [
    "# First Semester Project: Automating Accounting Procedures for a Business(Individual Project)\n",
    "\n",
    "\n",
    "## Project Overview:\n",
    "\n",
    "A local retail business, dealing with a variety of products, aims to streamline and automate its accounting procedures. The business operates two shifts per day with one worker on each shift. The primary goal is to create a Python project that assists in automating essential accounting tasks, including calculating total sales, worker salaries, profit, tips, and total tips for the day.\n",
    "## Key Features:\n",
    "\n",
    "Calculate Total Sales for the Day: from sales data for morning and evening shifts, produce total sales for the day.\n",
    "\n",
    "Calculate Worker's Salary: given hourly rate and hours worked by a worker. retrieve the worker's salary.\n",
    "\n",
    "Calculate Profit: given a list of numbers representing total sales and total cost of items sold, find the profit.(or loss if negative)\n",
    "\n",
    "Calculate Tips for a Shift: from sales data for a specific shift, workers get tipped for the shift (2% of shift sales).\n",
    "\n",
    "Calculate Total Tips for the Day: with sales data for morning and evening shifts, return total tips for the day (sum of tips from both shifts).\n",
    "\tThink of your shift sales as a list.\n",
    "User Interface:\n",
    "Create a user-friendly interface that displays a menu of available operations.\n",
    "Accept user input to choose the desired operation (1-4) or exit (5).\n",
    "### Input Handling:\n",
    "Prompt the user to enter numbers for each operation.\n",
    "Ensure that the program handles invalid inputs gracefully (e.g., non-numeric inputs).\n",
    "### Result Display:\n",
    "Display the result of the selected operation clearly to the user.\n",
    "### Program Loop:\n",
    "Implement a loop that allows the user to perform multiple calculations until choosing to exit.\n",
    "Project Structure:\n",
    "Organize your code into functions to encapsulate specific operations.\n",
    "Maintain a clear separation between function definitions and the main program.\n",
    "### Error Handling:\n",
    "Include error handling for scenarios such as division by zero.\n",
    "Exiting the Program:\n",
    "Provide an option for users to exit the  program.\n",
    "\n",
    "\n",
    "### Submission:\n",
    "Submit your project as a well-organized Python script (automation.py) with comments explaining each function. Discuss the challenges you encountered while working on this. Ensure that your code is readable, and use meaningful variable names.\n",
    " Submission Link\n",
    "### Tips:\n",
    "Test your program thoroughly with various inputs to ensure it works correctly.\n",
    "Structure your code in a way that makes it easy to understand and maintain.\n",
    "Experiment with additional features if you're comfortable, but focus on meeting the basic requirements first.\n",
    "\n",
    "\n"
   ]
  },
  {
   "cell_type": "markdown",
   "id": "d60ff08c",
   "metadata": {},
   "source": [
    "### Calculate Total Sales for the Day: from sales data for morning and evening shifts, produce total sales for the day."
   ]
  },
  {
   "cell_type": "code",
   "execution_count": 32,
   "id": "cc8ed4e6",
   "metadata": {},
   "outputs": [],
   "source": [
    "total_costs = [50, 25, 80, 65, 20, 45]"
   ]
  },
  {
   "cell_type": "code",
   "execution_count": 43,
   "id": "46a03345",
   "metadata": {},
   "outputs": [
    {
     "name": "stdout",
     "output_type": "stream",
     "text": [
      "Enter morning shift sales seperated by commas: 20,45,52,85,50\n",
      "Enter evening shift sales separated by commas: 85,52,46\n",
      "$435.0\n"
     ]
    },
    {
     "data": {
      "text/plain": [
       "'Daily total sales is [20.0, 45.0, 52.0, 85.0, 50.0, 85.0, 52.0, 46.0]'"
      ]
     },
     "execution_count": 43,
     "metadata": {},
     "output_type": "execute_result"
    }
   ],
   "source": [
    "def total_daily_sales():\n",
    "    global sales_shift_1\n",
    "    global sales_shift_2\n",
    "    global total_sales\n",
    "    sales_shift_1 = input(\"Enter morning shift sales seperated by commas: \")\n",
    "    sales_shift_2 = input(\"Enter evening shift sales separated by commas: \")\n",
    "    \n",
    "\n",
    "    \n",
    "    sales_shift_1 = [float(x) for x in sales_shift_1.split(',')]\n",
    "    sales_shift_2 = [float(x) for x in sales_shift_2.split(',')]\n",
    "    \n",
    "    \n",
    "    #sales_shift_1 = float(input('Enter your daily sales: '))\n",
    "    #sales_shift_2 = float(input('Enter your daily sales: '))\n",
    "    total_sales = sales_shift_1 + sales_shift_2\n",
    "    print(f'${sum(total_sales)}')\n",
    "    return f'Daily total sales is {total_sales}'\n",
    "total_daily_sales()"
   ]
  },
  {
   "cell_type": "code",
   "execution_count": null,
   "id": "8ec6a58c",
   "metadata": {},
   "outputs": [],
   "source": []
  },
  {
   "cell_type": "markdown",
   "id": "978a6766",
   "metadata": {},
   "source": [
    "### Calculate Worker's Salary: given hourly rate and hours worked by a worker. retrieve the worker's salary."
   ]
  },
  {
   "cell_type": "code",
   "execution_count": 48,
   "id": "f786f1f0",
   "metadata": {},
   "outputs": [],
   "source": [
    "def salary():\n",
    "    hourly_rates = 5\n",
    "    hours_worked = 8\n",
    "    salary = hourly_rates * hours_worked\n",
    "    return f'${salary}'"
   ]
  },
  {
   "cell_type": "code",
   "execution_count": 49,
   "id": "65c8fc4e",
   "metadata": {},
   "outputs": [
    {
     "data": {
      "text/plain": [
       "'$40'"
      ]
     },
     "execution_count": 49,
     "metadata": {},
     "output_type": "execute_result"
    }
   ],
   "source": [
    "salary()"
   ]
  },
  {
   "cell_type": "code",
   "execution_count": null,
   "id": "7e50cd99",
   "metadata": {},
   "outputs": [],
   "source": []
  },
  {
   "cell_type": "markdown",
   "id": "e804e3d1",
   "metadata": {},
   "source": [
    "### Calculate Profit: given a list of numbers representing total sales and total cost of items sold, find the profit.(or loss if negative)"
   ]
  },
  {
   "cell_type": "code",
   "execution_count": 44,
   "id": "5a2a2e45",
   "metadata": {},
   "outputs": [
    {
     "name": "stdout",
     "output_type": "stream",
     "text": [
      "Your profit is $150.0\n"
     ]
    }
   ],
   "source": [
    "def profit():\n",
    "    difference = sum(total_sales) - sum(total_costs)\n",
    "    \n",
    "    if difference > 0:\n",
    "        print(f'Your profit is ${difference}')\n",
    "    elif difference == 0:\n",
    "        print('You did not make profit or loss')\n",
    "    else:\n",
    "        print(f'Your loss is ${difference}')\n",
    "profit()"
   ]
  },
  {
   "cell_type": "code",
   "execution_count": null,
   "id": "7c2c2807",
   "metadata": {},
   "outputs": [],
   "source": []
  },
  {
   "cell_type": "markdown",
   "id": "d330cd98",
   "metadata": {},
   "source": [
    "### Calculate Tips for a Shift: from sales data for a specific shift, workers get tipped for the shift (2% of shift sales)."
   ]
  },
  {
   "cell_type": "code",
   "execution_count": 58,
   "id": "20b1d930",
   "metadata": {},
   "outputs": [],
   "source": [
    "def tip_per_shift():\n",
    "    return sum(sales_shift_1) * 0.02\n",
    "    "
   ]
  },
  {
   "cell_type": "code",
   "execution_count": 59,
   "id": "23056a71",
   "metadata": {},
   "outputs": [
    {
     "data": {
      "text/plain": [
       "5.04"
      ]
     },
     "execution_count": 59,
     "metadata": {},
     "output_type": "execute_result"
    }
   ],
   "source": [
    "tip_per_shift()"
   ]
  },
  {
   "cell_type": "code",
   "execution_count": null,
   "id": "5ed41d5d",
   "metadata": {},
   "outputs": [],
   "source": []
  },
  {
   "cell_type": "markdown",
   "id": "68d4150f",
   "metadata": {},
   "source": [
    "### Calculate Total Tips for the Day: with sales data for morning and evening shifts, return total tips for the day (sum of tips from both shifts)."
   ]
  },
  {
   "cell_type": "code",
   "execution_count": 54,
   "id": "e1dfca77",
   "metadata": {},
   "outputs": [],
   "source": [
    "def total_tips():\n",
    "    return sum(total_sales) * 0.02"
   ]
  },
  {
   "cell_type": "code",
   "execution_count": 55,
   "id": "a6d0f7b5",
   "metadata": {},
   "outputs": [
    {
     "data": {
      "text/plain": [
       "8.700000000000001"
      ]
     },
     "execution_count": 55,
     "metadata": {},
     "output_type": "execute_result"
    }
   ],
   "source": [
    "total_tips()"
   ]
  },
  {
   "cell_type": "code",
   "execution_count": null,
   "id": "5dcd1566",
   "metadata": {},
   "outputs": [],
   "source": []
  }
 ],
 "metadata": {
  "kernelspec": {
   "display_name": "Python 3 (ipykernel)",
   "language": "python",
   "name": "python3"
  },
  "language_info": {
   "codemirror_mode": {
    "name": "ipython",
    "version": 3
   },
   "file_extension": ".py",
   "mimetype": "text/x-python",
   "name": "python",
   "nbconvert_exporter": "python",
   "pygments_lexer": "ipython3",
   "version": "3.11.4"
  }
 },
 "nbformat": 4,
 "nbformat_minor": 5
}
