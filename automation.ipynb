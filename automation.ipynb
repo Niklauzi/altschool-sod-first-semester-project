{
 "cells": [
  {
   "cell_type": "markdown",
   "id": "64a56418",
   "metadata": {},
   "source": [
    "# First Semester Project: Automating Accounting Procedures for a Business(Individual Project)\n",
    "\n",
    "\n",
    "## Project Overview:\n",
    "\n",
    "A local retail business, dealing with a variety of products, aims to streamline and automate its accounting procedures. The business operates two shifts per day with one worker on each shift. The primary goal is to create a Python project that assists in automating essential accounting tasks, including calculating total sales, worker salaries, profit, tips, and total tips for the day.\n",
    "## Key Features:\n",
    "\n",
    "Calculate Total Sales for the Day: from sales data for morning and evening shifts, produce total sales for the day.\n",
    "\n",
    "Calculate Worker's Salary: given hourly rate and hours worked by a worker. retrieve the worker's salary.\n",
    "\n",
    "Calculate Profit: given a list of numbers representing total sales and total cost of items sold, find the profit.(or loss if negative)\n",
    "\n",
    "Calculate Tips for a Shift: from sales data for a specific shift, workers get tipped for the shift (2% of shift sales).\n",
    "\n",
    "Calculate Total Tips for the Day: with sales data for morning and evening shifts, return total tips for the day (sum of tips from both shifts).\n",
    "\tThink of your shift sales as a list.\n",
    "User Interface:\n",
    "Create a user-friendly interface that displays a menu of available operations.\n",
    "Accept user input to choose the desired operation (1-4) or exit (5).\n",
    "### Input Handling:\n",
    "Prompt the user to enter numbers for each operation.\n",
    "Ensure that the program handles invalid inputs gracefully (e.g., non-numeric inputs).\n",
    "### Result Display:\n",
    "Display the result of the selected operation clearly to the user.\n",
    "### Program Loop:\n",
    "Implement a loop that allows the user to perform multiple calculations until choosing to exit.\n",
    "Project Structure:\n",
    "Organize your code into functions to encapsulate specific operations.\n",
    "Maintain a clear separation between function definitions and the main program.\n",
    "### Error Handling:\n",
    "Include error handling for scenarios such as division by zero.\n",
    "Exiting the Program:\n",
    "Provide an option for users to exit the  program.\n",
    "\n",
    "\n",
    "### Submission:\n",
    "Submit your project as a well-organized Python script (automation.py) with comments explaining each function. Discuss the challenges you encountered while working on this. Ensure that your code is readable, and use meaningful variable names.\n",
    " Submission Link\n",
    "### Tips:\n",
    "Test your program thoroughly with various inputs to ensure it works correctly.\n",
    "Structure your code in a way that makes it easy to understand and maintain.\n",
    "Experiment with additional features if you're comfortable, but focus on meeting the basic requirements first.\n",
    "\n",
    "\n"
   ]
  },
  {
   "cell_type": "markdown",
   "id": "a56fade5",
   "metadata": {},
   "source": [
    "### Calculate Total Sales for the Day: from sales data for morning and evening shifts, produce total sales for the day."
   ]
  },
  {
   "cell_type": "code",
   "execution_count": 32,
   "id": "27d91232",
   "metadata": {},
   "outputs": [],
   "source": []
  },
  {
   "cell_type": "code",
   "execution_count": 94,
   "id": "c61f5f4e",
   "metadata": {},
   "outputs": [
    {
     "name": "stdout",
     "output_type": "stream",
     "text": [
      "Enter morning shift sales seperated by commas: 8,45\n",
      "Enter evening shift sales separated by commas: 7\n",
      "$60.0\n"
     ]
    },
    {
     "data": {
      "text/plain": [
       "'Daily total sales is [8.0, 45.0, 7.0]'"
      ]
     },
     "execution_count": 94,
     "metadata": {},
     "output_type": "execute_result"
    }
   ],
   "source": [
    "def total_daily_sales():\n",
    "    global sales_shift_1\n",
    "    global sales_shift_2\n",
    "    global total_sales\n",
    "    \n",
    "    while True:\n",
    "        \n",
    "        try:\n",
    "            sales_shift_1 = input(\"Enter morning shift sales seperated by commas: \")\n",
    "            sales_shift_2 = input(\"Enter evening shift sales separated by commas: \")\n",
    "            \n",
    "            sales_shift_1 = [float(x) for x in sales_shift_1.split(',')]\n",
    "            sales_shift_2 = [float(x) for x in sales_shift_2.split(',')]\n",
    "            \n",
    "            break\n",
    "        except ValueError:\n",
    "            print('Please enter a valid number')\n",
    "    \n",
    "    \n",
    "    #sales_shift_1 = float(input('Enter your daily sales: '))\n",
    "    #sales_shift_2 = float(input('Enter your daily sales: '))\n",
    "    total_sales = sales_shift_1 + sales_shift_2\n",
    "    print(f'${sum(total_sales)}')\n",
    "    return f'Daily total sales is {total_sales}'\n"
   ]
  },
  {
   "cell_type": "markdown",
   "id": "b2e0fdd7",
   "metadata": {},
   "source": []
  },
  {
   "cell_type": "markdown",
   "id": "ff32fee0",
   "metadata": {},
   "source": [
    "### Calculate Worker's Salary: given hourly rate and hours worked by a worker. retrieve the worker's salary."
   ]
  },
  {
   "cell_type": "code",
   "execution_count": 109,
   "id": "2845ee66",
   "metadata": {},
   "outputs": [],
   "source": [
    "def salary():\n",
    "    hourly_rates = 5\n",
    "    hours_worked = 8\n",
    "    salary = hourly_rates * hours_worked\n",
    "    print(salary)"
   ]
  },
  {
   "cell_type": "code",
   "execution_count": 96,
   "id": "8a7b4b7d",
   "metadata": {},
   "outputs": [],
   "source": []
  },
  {
   "cell_type": "code",
   "execution_count": 97,
   "id": "3db6d19a",
   "metadata": {},
   "outputs": [
    {
     "data": {
      "text/plain": [
       "40"
      ]
     },
     "execution_count": 97,
     "metadata": {},
     "output_type": "execute_result"
    }
   ],
   "source": []
  },
  {
   "cell_type": "markdown",
   "id": "80b8a6c7",
   "metadata": {},
   "source": [
    "### Calculate Profit: given a list of numbers representing total sales and total cost of items sold, find the profit.(or loss if negative)"
   ]
  },
  {
   "cell_type": "code",
   "execution_count": 113,
   "id": "0ce5c392",
   "metadata": {},
   "outputs": [],
   "source": [
    "def profit():\n",
    "    total_costs = [50, 25, 80, 65, 20, 45]    \n",
    "    difference = sum(total_sales) - sum(total_costs)\n",
    "    \n",
    "    if difference > 0:\n",
    "        print(f'Your profit is ${difference}')\n",
    "    elif difference == 0:\n",
    "        print('You did not make profit or loss')\n",
    "    else:\n",
    "        print(f'Your loss is ${difference}')\n"
   ]
  },
  {
   "cell_type": "code",
   "execution_count": null,
   "id": "6980dfe4",
   "metadata": {},
   "outputs": [],
   "source": []
  },
  {
   "cell_type": "markdown",
   "id": "eedf16dd",
   "metadata": {},
   "source": [
    "### Calculate Tips for a Shift: from sales data for a specific shift, workers get tipped for the shift (2% of shift sales)."
   ]
  },
  {
   "cell_type": "code",
   "execution_count": 114,
   "id": "226044e7",
   "metadata": {},
   "outputs": [],
   "source": [
    "def tip_per_shift():\n",
    "     print(sum(sales_shift_1) * 0.02)\n",
    "    "
   ]
  },
  {
   "cell_type": "code",
   "execution_count": null,
   "id": "f8145228",
   "metadata": {},
   "outputs": [],
   "source": []
  },
  {
   "cell_type": "code",
   "execution_count": null,
   "id": "418e3934",
   "metadata": {},
   "outputs": [],
   "source": []
  },
  {
   "cell_type": "markdown",
   "id": "6e6c9c6d",
   "metadata": {},
   "source": [
    "### Calculate Total Tips for the Day: with sales data for morning and evening shifts, return total tips for the day (sum of tips from both shifts)."
   ]
  },
  {
   "cell_type": "code",
   "execution_count": 115,
   "id": "98533c7f",
   "metadata": {},
   "outputs": [],
   "source": [
    "def total_tips():\n",
    "    total_tip = sum(total_sales) * 0.02\n",
    "    print(total_tip)"
   ]
  },
  {
   "cell_type": "code",
   "execution_count": null,
   "id": "7f076e49",
   "metadata": {},
   "outputs": [],
   "source": []
  },
  {
   "cell_type": "code",
   "execution_count": null,
   "id": "82945a15",
   "metadata": {},
   "outputs": [],
   "source": []
  },
  {
   "cell_type": "code",
   "execution_count": 120,
   "id": "6e291de8",
   "metadata": {},
   "outputs": [],
   "source": [
    "def automation():\n",
    "    while True:  \n",
    "        print(\"\\nAutomation\")\n",
    "        print(\"1. Calculate total sales\")\n",
    "        print(\"2. Calculate Salary\")\n",
    "        print(\"3. Calculate Profit or Loss\")\n",
    "        print(\"4. Calculate Tip for a shift\")\n",
    "        print(\"5. Calculate total Tips for a the day\")\n",
    "        print(\"6. Exit program\")\n",
    "        \n",
    "    \n",
    "        choice = input(\"Enter your choice from (1-5): \")\n",
    "        if choice == '1':\n",
    "            total_daily_sales()\n",
    "        elif choice == '2':\n",
    "            salary()\n",
    "        elif choice == '3':\n",
    "            profit()\n",
    "        elif choice == '4':\n",
    "            tip_per_shift()\n",
    "        elif choice == '5':\n",
    "            total_tips()\n",
    "        elif choice == '6':\n",
    "            break\n",
    "        else:\n",
    "            print('Invalid choice. please enter a number between 1 and 6.')"
   ]
  },
  {
   "cell_type": "code",
   "execution_count": null,
   "id": "45631fe3",
   "metadata": {},
   "outputs": [
    {
     "name": "stdout",
     "output_type": "stream",
     "text": [
      "\n",
      "Automation\n",
      "1. Calculate total sales\n",
      "2. Calculate Salary\n",
      "3. Calculate Profit or Loss\n",
      "4. Calculate Tip for a shift\n",
      "5. Calculate total Tips for a the day\n",
      "6. Exit program\n"
     ]
    }
   ],
   "source": [
    "automation()"
   ]
  },
  {
   "cell_type": "markdown",
   "id": "6c7d9c98",
   "metadata": {},
   "source": [
    "### Create Salary sheets\n",
    "shift, total sales, hours worked, hourly rate, salary, total tips"
   ]
  },
  {
   "cell_type": "code",
   "execution_count": 104,
   "id": "7d34c084",
   "metadata": {},
   "outputs": [],
   "source": [
    "def salary_sheets():\n",
    "    dataa = {'Total sales': total_sales_sum, 'Salary': salary, 'Total tips': totat_tip}\n",
    "    dff = pd.DataFrame(dataa)\n",
    "    \n",
    "    return dff"
   ]
  },
  {
   "cell_type": "code",
   "execution_count": null,
   "id": "1b63be89",
   "metadata": {},
   "outputs": [],
   "source": []
  },
  {
   "cell_type": "code",
   "execution_count": 87,
   "id": "f1686649",
   "metadata": {},
   "outputs": [
    {
     "name": "stdout",
     "output_type": "stream",
     "text": [
      "      Name  Age  Salary\n",
      "0    Alice   25   50000\n",
      "1      Bob   30   60000\n",
      "2  Charlie   35   75000\n"
     ]
    }
   ],
   "source": [
    "import pandas as pd\n",
    "\n",
    "# Your variables\n",
    "names = ['Alice', 'Bob', 'Charlie']\n",
    "ages = [25, 30, 35]\n",
    "salaries = [50000, 60000, 75000]\n",
    "\n",
    "# Create a dictionary from the variables\n",
    "data = {'Name': names, 'Age': ages, 'Salary': salaries}\n",
    "\n",
    "# Create a DataFrame from the dictionary\n",
    "df = pd.DataFrame(data)\n",
    "\n",
    "# Display the DataFrame\n",
    "print(df)\n"
   ]
  },
  {
   "cell_type": "code",
   "execution_count": 88,
   "id": "7bab6070",
   "metadata": {},
   "outputs": [
    {
     "data": {
      "text/html": [
       "<div>\n",
       "<style scoped>\n",
       "    .dataframe tbody tr th:only-of-type {\n",
       "        vertical-align: middle;\n",
       "    }\n",
       "\n",
       "    .dataframe tbody tr th {\n",
       "        vertical-align: top;\n",
       "    }\n",
       "\n",
       "    .dataframe thead th {\n",
       "        text-align: right;\n",
       "    }\n",
       "</style>\n",
       "<table border=\"1\" class=\"dataframe\">\n",
       "  <thead>\n",
       "    <tr style=\"text-align: right;\">\n",
       "      <th></th>\n",
       "      <th>Name</th>\n",
       "      <th>Age</th>\n",
       "      <th>Salary</th>\n",
       "    </tr>\n",
       "  </thead>\n",
       "  <tbody>\n",
       "    <tr>\n",
       "      <th>0</th>\n",
       "      <td>Alice</td>\n",
       "      <td>25</td>\n",
       "      <td>50000</td>\n",
       "    </tr>\n",
       "    <tr>\n",
       "      <th>1</th>\n",
       "      <td>Bob</td>\n",
       "      <td>30</td>\n",
       "      <td>60000</td>\n",
       "    </tr>\n",
       "    <tr>\n",
       "      <th>2</th>\n",
       "      <td>Charlie</td>\n",
       "      <td>35</td>\n",
       "      <td>75000</td>\n",
       "    </tr>\n",
       "  </tbody>\n",
       "</table>\n",
       "</div>"
      ],
      "text/plain": [
       "      Name  Age  Salary\n",
       "0    Alice   25   50000\n",
       "1      Bob   30   60000\n",
       "2  Charlie   35   75000"
      ]
     },
     "execution_count": 88,
     "metadata": {},
     "output_type": "execute_result"
    }
   ],
   "source": [
    "df"
   ]
  },
  {
   "cell_type": "code",
   "execution_count": null,
   "id": "ac32a8b2",
   "metadata": {},
   "outputs": [],
   "source": []
  }
 ],
 "metadata": {
  "kernelspec": {
   "display_name": "Python 3 (ipykernel)",
   "language": "python",
   "name": "python3"
  },
  "language_info": {
   "codemirror_mode": {
    "name": "ipython",
    "version": 3
   },
   "file_extension": ".py",
   "mimetype": "text/x-python",
   "name": "python",
   "nbconvert_exporter": "python",
   "pygments_lexer": "ipython3",
   "version": "3.11.4"
  }
 },
 "nbformat": 4,
 "nbformat_minor": 5
}
