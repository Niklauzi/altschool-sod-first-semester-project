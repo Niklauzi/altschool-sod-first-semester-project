{
 "cells": [
  {
   "cell_type": "markdown",
   "id": "9a579182",
   "metadata": {},
   "source": [
    "# First Semester Project: Automating Accounting Procedures for a Business(Individual Project)\n",
    "\n",
    "\n",
    "## Project Overview:\n",
    "\n",
    "A local retail business, dealing with a variety of products, aims to streamline and automate its accounting procedures. The business operates two shifts per day with one worker on each shift. The primary goal is to create a Python project that assists in automating essential accounting tasks, including calculating total sales, worker salaries, profit, tips, and total tips for the day.\n",
    "## Key Features:\n",
    "\n",
    "Calculate Total Sales for the Day: from sales data for morning and evening shifts, produce total sales for the day.\n",
    "Calculate Worker's Salary: given hourly rate and hours worked by a worker. retrieve the worker's salary.\n",
    "\n",
    "Calculate Profit: given a list of numbers representing total sales and total cost of items sold, find the profit.(or loss if negative)\n",
    "\n",
    "Calculate Tips for a Shift: from sales data for a specific shift, workers get tipped for the shift (2% of shift sales).\n",
    "Calculate Total Tips for the Day: with sales data for morning and evening shifts, return total tips for the day (sum of tips from both shifts).\n",
    "\tThink of your shift sales as a list.\n",
    "User Interface:\n",
    "Create a user-friendly interface that displays a menu of available operations.\n",
    "Accept user input to choose the desired operation (1-4) or exit (5).\n",
    "### Input Handling:\n",
    "Prompt the user to enter numbers for each operation.\n",
    "Ensure that the program handles invalid inputs gracefully (e.g., non-numeric inputs).\n",
    "### Result Display:\n",
    "Display the result of the selected operation clearly to the user.\n",
    "### Program Loop:\n",
    "Implement a loop that allows the user to perform multiple calculations until choosing to exit.\n",
    "Project Structure:\n",
    "Organize your code into functions to encapsulate specific operations.\n",
    "Maintain a clear separation between function definitions and the main program.\n",
    "### Error Handling:\n",
    "Include error handling for scenarios such as division by zero.\n",
    "Exiting the Program:\n",
    "Provide an option for users to exit the  program.\n",
    "\n",
    "\n",
    "### Submission:\n",
    "Submit your project as a well-organized Python script (automation.py) with comments explaining each function. Discuss the challenges you encountered while working on this. Ensure that your code is readable, and use meaningful variable names.\n",
    " Submission Link\n",
    "### Tips:\n",
    "Test your program thoroughly with various inputs to ensure it works correctly.\n",
    "Structure your code in a way that makes it easy to understand and maintain.\n",
    "Experiment with additional features if you're comfortable, but focus on meeting the basic requirements first.\n",
    "\n",
    "\n"
   ]
  },
  {
   "cell_type": "code",
   "execution_count": null,
   "id": "5cea0b49",
   "metadata": {},
   "outputs": [],
   "source": []
  },
  {
   "cell_type": "code",
   "execution_count": 19,
   "id": "3b1f0aed",
   "metadata": {},
   "outputs": [],
   "source": [
    "def total_daily_sales():\n",
    "    global sales_shift_1\n",
    "    global sales_shift_2\n",
    "    global total_sales\n",
    "    sales_shift_1 = input(\"Enter morning shift sales seperated by commas: \")\n",
    "    sales_shift_2 = input(\"Enter evening shift sales separated by commas: \")\n",
    "    \n",
    "\n",
    "    \n",
    "    sales_shift_1 = [float(x) for x in sales_shift_1.split(',')]\n",
    "    sales_shift_2 = [float(x) for x in sales_shift_2.split(',')]\n",
    "    \n",
    "    \n",
    "    #sales_shift_1 = float(input('Enter your daily sales: '))\n",
    "    #sales_shift_2 = float(input('Enter your daily sales: '))\n",
    "    total_sales = sales_shift_1 + sales_shift_2\n",
    "    print(f'${sum(total_sales)}')\n",
    "    return f'Daily total sales is {total_sales}'"
   ]
  },
  {
   "cell_type": "code",
   "execution_count": 20,
   "id": "869602f6",
   "metadata": {},
   "outputs": [
    {
     "name": "stdout",
     "output_type": "stream",
     "text": [
      "Enter a list of values separated by commas: 5,4,1\n",
      "Enter a list of values separated by commas: 10,5,5\n",
      "$30.0\n"
     ]
    },
    {
     "data": {
      "text/plain": [
       "'Daily total sales is [5.0, 4.0, 1.0, 10.0, 5.0, 5.0]'"
      ]
     },
     "execution_count": 20,
     "metadata": {},
     "output_type": "execute_result"
    }
   ],
   "source": [
    "total_daily_sales()"
   ]
  },
  {
   "cell_type": "code",
   "execution_count": 16,
   "id": "4ce36ea3",
   "metadata": {},
   "outputs": [
    {
     "data": {
      "text/plain": [
       "[10.0, 10.0]"
      ]
     },
     "execution_count": 16,
     "metadata": {},
     "output_type": "execute_result"
    }
   ],
   "source": [
    "sales_shift_2"
   ]
  },
  {
   "cell_type": "code",
   "execution_count": 21,
   "id": "3e87a411",
   "metadata": {},
   "outputs": [
    {
     "data": {
      "text/plain": [
       "[5.0, 4.0, 1.0, 10.0, 5.0, 5.0]"
      ]
     },
     "execution_count": 21,
     "metadata": {},
     "output_type": "execute_result"
    }
   ],
   "source": [
    "total_sales"
   ]
  },
  {
   "cell_type": "code",
   "execution_count": null,
   "id": "238064ea",
   "metadata": {},
   "outputs": [],
   "source": []
  },
  {
   "cell_type": "code",
   "execution_count": null,
   "id": "9ece3f86",
   "metadata": {},
   "outputs": [],
   "source": []
  },
  {
   "cell_type": "code",
   "execution_count": null,
   "id": "ff681b5a",
   "metadata": {},
   "outputs": [],
   "source": []
  },
  {
   "cell_type": "code",
   "execution_count": null,
   "id": "b1b53782",
   "metadata": {},
   "outputs": [],
   "source": []
  }
 ],
 "metadata": {
  "kernelspec": {
   "display_name": "Python 3 (ipykernel)",
   "language": "python",
   "name": "python3"
  },
  "language_info": {
   "codemirror_mode": {
    "name": "ipython",
    "version": 3
   },
   "file_extension": ".py",
   "mimetype": "text/x-python",
   "name": "python",
   "nbconvert_exporter": "python",
   "pygments_lexer": "ipython3",
   "version": "3.11.4"
  }
 },
 "nbformat": 4,
 "nbformat_minor": 5
}
