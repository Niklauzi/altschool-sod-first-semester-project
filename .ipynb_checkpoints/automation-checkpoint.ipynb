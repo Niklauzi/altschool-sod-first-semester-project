{
 "cells": [
  {
   "cell_type": "markdown",
   "id": "3d8d3fc6",
   "metadata": {},
   "source": [
    "# First Semester Project: Automating Accounting Procedures for a Business(Individual Project)\n",
    "\n",
    "\n",
    "## Project Overview:\n",
    "\n",
    "A local retail business, dealing with a variety of products, aims to streamline and automate its accounting procedures. The business operates two shifts per day with one worker on each shift. The primary goal is to create a Python project that assists in automating essential accounting tasks, including calculating total sales, worker salaries, profit, tips, and total tips for the day.\n",
    "## Key Features:\n",
    "\n",
    "Calculate Total Sales for the Day: from sales data for morning and evening shifts, produce total sales for the day.\n",
    "\n",
    "Calculate Worker's Salary: given hourly rate and hours worked by a worker. retrieve the worker's salary.\n",
    "\n",
    "Calculate Profit: given a list of numbers representing total sales and total cost of items sold, find the profit.(or loss if negative)\n",
    "\n",
    "Calculate Tips for a Shift: from sales data for a specific shift, workers get tipped for the shift (2% of shift sales).\n",
    "\n",
    "Calculate Total Tips for the Day: with sales data for morning and evening shifts, return total tips for the day (sum of tips from both shifts).\n",
    "\tThink of your shift sales as a list.\n",
    "User Interface:\n",
    "Create a user-friendly interface that displays a menu of available operations.\n",
    "Accept user input to choose the desired operation (1-4) or exit (5).\n",
    "### Input Handling:\n",
    "Prompt the user to enter numbers for each operation.\n",
    "Ensure that the program handles invalid inputs gracefully (e.g., non-numeric inputs).\n",
    "### Result Display:\n",
    "Display the result of the selected operation clearly to the user.\n",
    "### Program Loop:\n",
    "Implement a loop that allows the user to perform multiple calculations until choosing to exit.\n",
    "Project Structure:\n",
    "Organize your code into functions to encapsulate specific operations.\n",
    "Maintain a clear separation between function definitions and the main program.\n",
    "### Error Handling:\n",
    "Include error handling for scenarios such as division by zero.\n",
    "Exiting the Program:\n",
    "Provide an option for users to exit the  program.\n",
    "\n",
    "\n",
    "### Submission:\n",
    "Submit your project as a well-organized Python script (automation.py) with comments explaining each function. Discuss the challenges you encountered while working on this. Ensure that your code is readable, and use meaningful variable names.\n",
    " Submission Link\n",
    "### Tips:\n",
    "Test your program thoroughly with various inputs to ensure it works correctly.\n",
    "Structure your code in a way that makes it easy to understand and maintain.\n",
    "Experiment with additional features if you're comfortable, but focus on meeting the basic requirements first.\n",
    "\n",
    "\n"
   ]
  },
  {
   "cell_type": "markdown",
   "id": "c3857bb9",
   "metadata": {},
   "source": [
    "### Calculate Total Sales for the Day: from sales data for morning and evening shifts, produce total sales for the day."
   ]
  },
  {
   "cell_type": "code",
   "execution_count": 3,
   "id": "35c7ef6b",
   "metadata": {},
   "outputs": [],
   "source": [
    "def total_daily_sales():\n",
    "    #global sales_shift_1\n",
    "    #global sales_shift_2\n",
    "    #global total_sales\n",
    "    \n",
    "    while True:\n",
    "        \n",
    "        try:\n",
    "            sales_shift_1 = input(\"Enter morning shift sales seperated by commas: \")\n",
    "            sales_shift_2 = input(\"Enter evening shift sales separated by commas: \")\n",
    "            \n",
    "            sales_shift_1 = [float(x) for x in sales_shift_1.split(',')]\n",
    "            sales_shift_2 = [float(x) for x in sales_shift_2.split(',')]\n",
    "            \n",
    "            break\n",
    "        except ValueError:\n",
    "            print('Please enter a valid number')\n",
    "    \n",
    "    total_sales = sales_shift_1 + sales_shift_2\n",
    "    print(f'${sum(total_sales)}')\n",
    "    return total_sales\n",
    "\n",
    "def salary():\n",
    "    hourly_rates = 5\n",
    "    hours_worked = 8\n",
    "    salary = hourly_rates * hours_worked\n",
    "    print(salary)\n",
    "    \n",
    "    \n",
    "def profit(total_sales):\n",
    "    total_costs = [50, 25, 80, 65, 20, 45]    \n",
    "    difference = sum(total_sales) - sum(total_costs)\n",
    "    \n",
    "    if difference > 0:\n",
    "        print(f'Your profit is ${difference}')\n",
    "    elif difference == 0:\n",
    "        print('You did not make profit or loss')\n",
    "    else:\n",
    "        print(f'Your loss is ${difference}')\n",
    "\n",
    "        \n",
    "def tip_per_shift(sales_shift_1, sales_shift_2):\n",
    "    shift_choice = input(\"Enter '1' for morning shift or '2' for evening shift: \")\n",
    "    if shift_choice == '1':\n",
    "        tip = sum(sales_shift_1) * 0.02\n",
    "        print(f'Tip for morning shift: ${tip}')\n",
    "    elif shift_choice == '2':\n",
    "        tip = sum(sales_shift_2) * 0.02\n",
    "        print(f'Tip for evening shift: ${tip}')\n",
    "    else:\n",
    "        print('Invalid choice. Please enter either \"1\" or \"2\".')\n",
    "    \n",
    "    \n",
    "def total_tips(total_sales):\n",
    "    total_tip = sum(total_sales) * 0.02\n",
    "    print(total_tip)\n",
    "    \n",
    "\n"
   ]
  },
  {
   "cell_type": "code",
   "execution_count": 8,
   "id": "69d93e2c",
   "metadata": {},
   "outputs": [],
   "source": [
    "def automation():\n",
    "    total_sales = []\n",
    "    sales_shift_1 = []\n",
    "    while True:  \n",
    "        print(\"\\nAutomation\")\n",
    "        print(\"1. Calculate total sales\")\n",
    "        print(\"2. Calculate Salary\")\n",
    "        print(\"3. Calculate Profit or Loss\")\n",
    "        print(\"4. Calculate Tip for a shift\")\n",
    "        print(\"5. Calculate total Tips for a the day\")\n",
    "        print(\"6. Exit program\")\n",
    "\n",
    "        choice = input(\"Enter your choice from (1-6): \")\n",
    "        if choice == '1':\n",
    "            total_sales = total_daily_sales()\n",
    "            sales_shift_1 = total_sales[:len(total_sales)//2]\n",
    "            sales_shift_2 = total_sales[len(total_sales)//2:]\n",
    "        elif choice == '2':\n",
    "            salary()\n",
    "        elif choice == '3':\n",
    "            if not total_sales:\n",
    "                print(\"Please calculate total sales (option 1) before calculating profit.\")\n",
    "            else:\n",
    "                profit(total_sales)\n",
    "        elif choice == '4':\n",
    "            if not sales_shift_1 and sales_shift_2:\n",
    "                print(\"Please calculate total sales (option 1) before calculating tip for a shift.\")\n",
    "            else:\n",
    "                tip_per_shift(sales_shift_1, sales_shift_2)\n",
    "        elif choice == '5':\n",
    "            if not total_sales:\n",
    "                print(\"Please calculate total sales (option 1) before calculating total tips.\")\n",
    "            else:\n",
    "                total_tips(total_sales)\n",
    "        elif choice == '6':\n",
    "            break\n",
    "        else:\n",
    "            print('Invalid choice. Please enter a number between 1 and 6.')"
   ]
  },
  {
   "cell_type": "code",
   "execution_count": null,
   "id": "6194903f",
   "metadata": {},
   "outputs": [
    {
     "name": "stdout",
     "output_type": "stream",
     "text": [
      "\n",
      "Automation\n",
      "1. Calculate total sales\n",
      "2. Calculate Salary\n",
      "3. Calculate Profit or Loss\n",
      "4. Calculate Tip for a shift\n",
      "5. Calculate total Tips for a the day\n",
      "6. Exit program\n",
      "Enter your choice from (1-6): 1\n",
      "Enter morning shift sales seperated by commas: 55\n",
      "Enter evening shift sales separated by commas: 800\n",
      "$855.0\n",
      "\n",
      "Automation\n",
      "1. Calculate total sales\n",
      "2. Calculate Salary\n",
      "3. Calculate Profit or Loss\n",
      "4. Calculate Tip for a shift\n",
      "5. Calculate total Tips for a the day\n",
      "6. Exit program\n",
      "Enter your choice from (1-6): 3\n",
      "Your profit is $570.0\n",
      "\n",
      "Automation\n",
      "1. Calculate total sales\n",
      "2. Calculate Salary\n",
      "3. Calculate Profit or Loss\n",
      "4. Calculate Tip for a shift\n",
      "5. Calculate total Tips for a the day\n",
      "6. Exit program\n",
      "Enter your choice from (1-6): 4\n",
      "Enter '1' for morning shift or '2' for evening shift: 1\n",
      "Tip for morning shift: $1.1\n",
      "\n",
      "Automation\n",
      "1. Calculate total sales\n",
      "2. Calculate Salary\n",
      "3. Calculate Profit or Loss\n",
      "4. Calculate Tip for a shift\n",
      "5. Calculate total Tips for a the day\n",
      "6. Exit program\n",
      "Enter your choice from (1-6): 2\n",
      "40\n",
      "\n",
      "Automation\n",
      "1. Calculate total sales\n",
      "2. Calculate Salary\n",
      "3. Calculate Profit or Loss\n",
      "4. Calculate Tip for a shift\n",
      "5. Calculate total Tips for a the day\n",
      "6. Exit program\n",
      "Enter your choice from (1-6): 4\n",
      "Enter '1' for morning shift or '2' for evening shift: 2\n",
      "Tip for evening shift: $16.0\n",
      "\n",
      "Automation\n",
      "1. Calculate total sales\n",
      "2. Calculate Salary\n",
      "3. Calculate Profit or Loss\n",
      "4. Calculate Tip for a shift\n",
      "5. Calculate total Tips for a the day\n",
      "6. Exit program\n",
      "Enter your choice from (1-6): 5\n",
      "17.1\n",
      "\n",
      "Automation\n",
      "1. Calculate total sales\n",
      "2. Calculate Salary\n",
      "3. Calculate Profit or Loss\n",
      "4. Calculate Tip for a shift\n",
      "5. Calculate total Tips for a the day\n",
      "6. Exit program\n"
     ]
    }
   ],
   "source": [
    "automation()"
   ]
  },
  {
   "cell_type": "markdown",
   "id": "75a67031",
   "metadata": {},
   "source": [
    "### Calculate Worker's Salary: given hourly rate and hours worked by a worker. retrieve the worker's salary."
   ]
  },
  {
   "cell_type": "code",
   "execution_count": 10,
   "id": "b131b760",
   "metadata": {},
   "outputs": [],
   "source": [
    "def salary():\n",
    "    hourly_rates = 5\n",
    "    hours_worked = 8\n",
    "    salary = hourly_rates * hours_worked\n",
    "    print(salary)"
   ]
  },
  {
   "cell_type": "code",
   "execution_count": null,
   "id": "c9b15ce3",
   "metadata": {},
   "outputs": [],
   "source": []
  },
  {
   "cell_type": "code",
   "execution_count": null,
   "id": "86d075a6",
   "metadata": {},
   "outputs": [],
   "source": []
  },
  {
   "cell_type": "markdown",
   "id": "a5554b13",
   "metadata": {},
   "source": [
    "### Calculate Profit: given a list of numbers representing total sales and total cost of items sold, find the profit.(or loss if negative)"
   ]
  },
  {
   "cell_type": "code",
   "execution_count": 11,
   "id": "ff246785",
   "metadata": {},
   "outputs": [],
   "source": [
    "def profit():\n",
    "    total_costs = [50, 25, 80, 65, 20, 45]    \n",
    "    difference = sum(total_sales) - sum(total_costs)\n",
    "    \n",
    "    if difference > 0:\n",
    "        print(f'Your profit is ${difference}')\n",
    "    elif difference == 0:\n",
    "        print('You did not make profit or loss')\n",
    "    else:\n",
    "        print(f'Your loss is ${difference}')\n"
   ]
  },
  {
   "cell_type": "code",
   "execution_count": null,
   "id": "07b52b34",
   "metadata": {},
   "outputs": [],
   "source": []
  },
  {
   "cell_type": "markdown",
   "id": "b46578f2",
   "metadata": {},
   "source": [
    "### Calculate Tips for a Shift: from sales data for a specific shift, workers get tipped for the shift (2% of shift sales)."
   ]
  },
  {
   "cell_type": "code",
   "execution_count": 12,
   "id": "ed1768cd",
   "metadata": {},
   "outputs": [],
   "source": [
    "def tip_per_shift():\n",
    "     print(sum(sales_shift_1) * 0.02)\n",
    "    "
   ]
  },
  {
   "cell_type": "code",
   "execution_count": null,
   "id": "847c7016",
   "metadata": {},
   "outputs": [],
   "source": []
  },
  {
   "cell_type": "code",
   "execution_count": null,
   "id": "3769ad30",
   "metadata": {},
   "outputs": [],
   "source": []
  },
  {
   "cell_type": "markdown",
   "id": "8b479539",
   "metadata": {},
   "source": [
    "### Calculate Total Tips for the Day: with sales data for morning and evening shifts, return total tips for the day (sum of tips from both shifts)."
   ]
  },
  {
   "cell_type": "code",
   "execution_count": 13,
   "id": "e9b93845",
   "metadata": {},
   "outputs": [],
   "source": [
    "def total_tips():\n",
    "    total_tip = sum(total_sales) * 0.02\n",
    "    print(total_tip)"
   ]
  },
  {
   "cell_type": "code",
   "execution_count": null,
   "id": "efe646cd",
   "metadata": {},
   "outputs": [],
   "source": []
  },
  {
   "cell_type": "code",
   "execution_count": null,
   "id": "0a1eee89",
   "metadata": {},
   "outputs": [],
   "source": []
  },
  {
   "cell_type": "code",
   "execution_count": null,
   "id": "4c88e03d",
   "metadata": {},
   "outputs": [],
   "source": [
    "def automation():\n",
    "    total_sales = []\n",
    "    while True:  \n",
    "        print(\"\\nAutomation\")\n",
    "        print(\"1. Calculate total sales\")\n",
    "        print(\"2. Calculate Salary\")\n",
    "        print(\"3. Calculate Profit or Loss\")\n",
    "        print(\"4. Calculate Tip for a shift\")\n",
    "        print(\"5. Calculate total Tips for a the day\")\n",
    "        print(\"6. Exit program\")\n",
    "\n",
    "        choice = input(\"Enter your choice from (1-6): \")\n",
    "        if choice == '1':\n",
    "            total_sales = total_daily_sales()\n",
    "        elif choice == '2':\n",
    "            salary()\n",
    "        elif choice == '3':\n",
    "            if not total_sales:\n",
    "                print(\"Please calculate total sales (option 1) before calculating profit.\")\n",
    "            else:\n",
    "                profit(total_sales)\n",
    "        elif choice == '4':\n",
    "            if not total_sales:\n",
    "                print(\"Please calculate total sales (option 1) before calculating tip for a shift.\")\n",
    "            else:\n",
    "                tip_per_shift()\n",
    "        elif choice == '5':\n",
    "            if not total_sales:\n",
    "                print(\"Please calculate total sales (option 1) before calculating total tips.\")\n",
    "            else:\n",
    "                total_tips(total_sales)\n",
    "        elif choice == '6':\n",
    "            break\n",
    "        else:\n",
    "            print('Invalid choice. Please enter a number between 1 and 6.')"
   ]
  },
  {
   "cell_type": "code",
   "execution_count": 16,
   "id": "1c8554de",
   "metadata": {},
   "outputs": [
    {
     "name": "stdout",
     "output_type": "stream",
     "text": [
      "\n",
      "Automation\n",
      "1. Calculate total sales\n",
      "2. Calculate Salary\n",
      "3. Calculate Profit or Loss\n",
      "4. Calculate Tip for a shift\n",
      "5. Calculate total Tips for a the day\n",
      "6. Exit program\n",
      "Enter your choice from (1-6): 6\n"
     ]
    }
   ],
   "source": [
    "automation()"
   ]
  },
  {
   "cell_type": "markdown",
   "id": "56d5192f",
   "metadata": {},
   "source": [
    "### Create Salary sheets\n",
    "shift, total sales, hours worked, hourly rate, salary, total tips"
   ]
  },
  {
   "cell_type": "code",
   "execution_count": 104,
   "id": "1a4e6b6a",
   "metadata": {},
   "outputs": [],
   "source": [
    "def salary_sheets():\n",
    "    dataa = {'Total sales': total_sales_sum, 'Salary': salary, 'Total tips': totat_tip}\n",
    "    dff = pd.DataFrame(dataa)\n",
    "    \n",
    "    return dff"
   ]
  },
  {
   "cell_type": "code",
   "execution_count": null,
   "id": "6f4da60b",
   "metadata": {},
   "outputs": [],
   "source": []
  },
  {
   "cell_type": "code",
   "execution_count": 87,
   "id": "c33233fc",
   "metadata": {},
   "outputs": [
    {
     "name": "stdout",
     "output_type": "stream",
     "text": [
      "      Name  Age  Salary\n",
      "0    Alice   25   50000\n",
      "1      Bob   30   60000\n",
      "2  Charlie   35   75000\n"
     ]
    }
   ],
   "source": [
    "import pandas as pd\n",
    "\n",
    "# Your variables\n",
    "names = ['Alice', 'Bob', 'Charlie']\n",
    "ages = [25, 30, 35]\n",
    "salaries = [50000, 60000, 75000]\n",
    "\n",
    "# Create a dictionary from the variables\n",
    "data = {'Name': names, 'Age': ages, 'Salary': salaries}\n",
    "\n",
    "# Create a DataFrame from the dictionary\n",
    "df = pd.DataFrame(data)\n",
    "\n",
    "# Display the DataFrame\n",
    "print(df)\n"
   ]
  },
  {
   "cell_type": "code",
   "execution_count": 88,
   "id": "3e2c11f8",
   "metadata": {},
   "outputs": [
    {
     "data": {
      "text/html": [
       "<div>\n",
       "<style scoped>\n",
       "    .dataframe tbody tr th:only-of-type {\n",
       "        vertical-align: middle;\n",
       "    }\n",
       "\n",
       "    .dataframe tbody tr th {\n",
       "        vertical-align: top;\n",
       "    }\n",
       "\n",
       "    .dataframe thead th {\n",
       "        text-align: right;\n",
       "    }\n",
       "</style>\n",
       "<table border=\"1\" class=\"dataframe\">\n",
       "  <thead>\n",
       "    <tr style=\"text-align: right;\">\n",
       "      <th></th>\n",
       "      <th>Name</th>\n",
       "      <th>Age</th>\n",
       "      <th>Salary</th>\n",
       "    </tr>\n",
       "  </thead>\n",
       "  <tbody>\n",
       "    <tr>\n",
       "      <th>0</th>\n",
       "      <td>Alice</td>\n",
       "      <td>25</td>\n",
       "      <td>50000</td>\n",
       "    </tr>\n",
       "    <tr>\n",
       "      <th>1</th>\n",
       "      <td>Bob</td>\n",
       "      <td>30</td>\n",
       "      <td>60000</td>\n",
       "    </tr>\n",
       "    <tr>\n",
       "      <th>2</th>\n",
       "      <td>Charlie</td>\n",
       "      <td>35</td>\n",
       "      <td>75000</td>\n",
       "    </tr>\n",
       "  </tbody>\n",
       "</table>\n",
       "</div>"
      ],
      "text/plain": [
       "      Name  Age  Salary\n",
       "0    Alice   25   50000\n",
       "1      Bob   30   60000\n",
       "2  Charlie   35   75000"
      ]
     },
     "execution_count": 88,
     "metadata": {},
     "output_type": "execute_result"
    }
   ],
   "source": [
    "df"
   ]
  },
  {
   "cell_type": "code",
   "execution_count": null,
   "id": "ad25d11c",
   "metadata": {},
   "outputs": [],
   "source": []
  }
 ],
 "metadata": {
  "kernelspec": {
   "display_name": "Python 3 (ipykernel)",
   "language": "python",
   "name": "python3"
  },
  "language_info": {
   "codemirror_mode": {
    "name": "ipython",
    "version": 3
   },
   "file_extension": ".py",
   "mimetype": "text/x-python",
   "name": "python",
   "nbconvert_exporter": "python",
   "pygments_lexer": "ipython3",
   "version": "3.11.4"
  }
 },
 "nbformat": 4,
 "nbformat_minor": 5
}
