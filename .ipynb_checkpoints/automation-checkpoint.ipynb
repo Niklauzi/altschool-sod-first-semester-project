{
 "cells": [
  {
   "cell_type": "markdown",
   "id": "d1aebf28",
   "metadata": {},
   "source": [
    "# First Semester Project: Automating Accounting Procedures for a Business(Individual Project)\n",
    "\n",
    "\n",
    "## Project Overview:\n",
    "\n",
    "A local retail business, dealing with a variety of products, aims to streamline and automate its accounting procedures. The business operates two shifts per day with one worker on each shift. The primary goal is to create a Python project that assists in automating essential accounting tasks, including calculating total sales, worker salaries, profit, tips, and total tips for the day.\n",
    "## Key Features:\n",
    "\n",
    "Calculate Total Sales for the Day: from sales data for morning and evening shifts, produce total sales for the day.\n",
    "Calculate Worker's Salary: given hourly rate and hours worked by a worker. retrieve the worker's salary.\n",
    "\n",
    "Calculate Profit: given a list of numbers representing total sales and total cost of items sold, find the profit.(or loss if negative)\n",
    "\n",
    "Calculate Tips for a Shift: from sales data for a specific shift, workers get tipped for the shift (2% of shift sales).\n",
    "Calculate Total Tips for the Day: with sales data for morning and evening shifts, return total tips for the day (sum of tips from both shifts).\n",
    "\tThink of your shift sales as a list.\n",
    "User Interface:\n",
    "Create a user-friendly interface that displays a menu of available operations.\n",
    "Accept user input to choose the desired operation (1-4) or exit (5).\n",
    "### Input Handling:\n",
    "Prompt the user to enter numbers for each operation.\n",
    "Ensure that the program handles invalid inputs gracefully (e.g., non-numeric inputs).\n",
    "### Result Display:\n",
    "Display the result of the selected operation clearly to the user.\n",
    "### Program Loop:\n",
    "Implement a loop that allows the user to perform multiple calculations until choosing to exit.\n",
    "Project Structure:\n",
    "Organize your code into functions to encapsulate specific operations.\n",
    "Maintain a clear separation between function definitions and the main program.\n",
    "### Error Handling:\n",
    "Include error handling for scenarios such as division by zero.\n",
    "Exiting the Program:\n",
    "Provide an option for users to exit the  program.\n",
    "\n",
    "\n",
    "### Submission:\n",
    "Submit your project as a well-organized Python script (automation.py) with comments explaining each function. Discuss the challenges you encountered while working on this. Ensure that your code is readable, and use meaningful variable names.\n",
    " Submission Link\n",
    "### Tips:\n",
    "Test your program thoroughly with various inputs to ensure it works correctly.\n",
    "Structure your code in a way that makes it easy to understand and maintain.\n",
    "Experiment with additional features if you're comfortable, but focus on meeting the basic requirements first.\n",
    "\n",
    "\n"
   ]
  },
  {
   "cell_type": "code",
   "execution_count": null,
   "id": "4a118f6a",
   "metadata": {},
   "outputs": [],
   "source": []
  },
  {
   "cell_type": "code",
   "execution_count": null,
   "id": "2519067e",
   "metadata": {},
   "outputs": [],
   "source": []
  },
  {
   "cell_type": "code",
   "execution_count": null,
   "id": "5d2a759c",
   "metadata": {},
   "outputs": [],
   "source": []
  },
  {
   "cell_type": "code",
   "execution_count": null,
   "id": "7dfd38f4",
   "metadata": {},
   "outputs": [],
   "source": []
  },
  {
   "cell_type": "code",
   "execution_count": null,
   "id": "bf756017",
   "metadata": {},
   "outputs": [],
   "source": []
  },
  {
   "cell_type": "code",
   "execution_count": null,
   "id": "5fd4153d",
   "metadata": {},
   "outputs": [],
   "source": []
  },
  {
   "cell_type": "code",
   "execution_count": null,
   "id": "4e0500cb",
   "metadata": {},
   "outputs": [],
   "source": []
  },
  {
   "cell_type": "code",
   "execution_count": null,
   "id": "5cac80a3",
   "metadata": {},
   "outputs": [],
   "source": []
  }
 ],
 "metadata": {
  "kernelspec": {
   "display_name": "Python 3 (ipykernel)",
   "language": "python",
   "name": "python3"
  },
  "language_info": {
   "codemirror_mode": {
    "name": "ipython",
    "version": 3
   },
   "file_extension": ".py",
   "mimetype": "text/x-python",
   "name": "python",
   "nbconvert_exporter": "python",
   "pygments_lexer": "ipython3",
   "version": "3.11.4"
  }
 },
 "nbformat": 4,
 "nbformat_minor": 5
}
