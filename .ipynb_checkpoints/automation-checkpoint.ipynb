{
 "cells": [
  {
   "cell_type": "markdown",
   "id": "6e4e3295",
   "metadata": {},
   "source": [
    "# First Semester Project: Automating Accounting Procedures for a Business(Individual Project)\n",
    "\n",
    "\n",
    "## Project Overview:\n",
    "\n",
    "A local retail business, dealing with a variety of products, aims to streamline and automate its accounting procedures. The business operates two shifts per day with one worker on each shift. The primary goal is to create a Python project that assists in automating essential accounting tasks, including calculating total sales, worker salaries, profit, tips, and total tips for the day.\n",
    "## Key Features:\n",
    "\n",
    "Calculate Total Sales for the Day: from sales data for morning and evening shifts, produce total sales for the day.\n",
    "\n",
    "Calculate Worker's Salary: given hourly rate and hours worked by a worker. retrieve the worker's salary.\n",
    "\n",
    "Calculate Profit: given a list of numbers representing total sales and total cost of items sold, find the profit.(or loss if negative)\n",
    "\n",
    "Calculate Tips for a Shift: from sales data for a specific shift, workers get tipped for the shift (2% of shift sales).\n",
    "\n",
    "Calculate Total Tips for the Day: with sales data for morning and evening shifts, return total tips for the day (sum of tips from both shifts).\n",
    "\tThink of your shift sales as a list.\n",
    "User Interface:\n",
    "Create a user-friendly interface that displays a menu of available operations.\n",
    "Accept user input to choose the desired operation (1-4) or exit (5).\n",
    "### Input Handling:\n",
    "Prompt the user to enter numbers for each operation.\n",
    "Ensure that the program handles invalid inputs gracefully (e.g., non-numeric inputs).\n",
    "### Result Display:\n",
    "Display the result of the selected operation clearly to the user.\n",
    "### Program Loop:\n",
    "Implement a loop that allows the user to perform multiple calculations until choosing to exit.\n",
    "Project Structure:\n",
    "Organize your code into functions to encapsulate specific operations.\n",
    "Maintain a clear separation between function definitions and the main program.\n",
    "### Error Handling:\n",
    "Include error handling for scenarios such as division by zero.\n",
    "Exiting the Program:\n",
    "Provide an option for users to exit the  program.\n",
    "\n",
    "\n",
    "### Submission:\n",
    "Submit your project as a well-organized Python script (automation.py) with comments explaining each function. Discuss the challenges you encountered while working on this. Ensure that your code is readable, and use meaningful variable names.\n",
    " Submission Link\n",
    "### Tips:\n",
    "Test your program thoroughly with various inputs to ensure it works correctly.\n",
    "Structure your code in a way that makes it easy to understand and maintain.\n",
    "Experiment with additional features if you're comfortable, but focus on meeting the basic requirements first.\n",
    "\n",
    "\n"
   ]
  },
  {
   "cell_type": "markdown",
   "id": "f7325f23",
   "metadata": {},
   "source": [
    "### Calculate Total Sales for the Day: from sales data for morning and evening shifts, produce total sales for the day."
   ]
  },
  {
   "cell_type": "code",
   "execution_count": 32,
   "id": "bd4bd474",
   "metadata": {},
   "outputs": [],
   "source": []
  },
  {
   "cell_type": "code",
   "execution_count": 2,
   "id": "c3f1d415",
   "metadata": {},
   "outputs": [
    {
     "name": "stdout",
     "output_type": "stream",
     "text": [
      "Enter morning shift sales seperated by commas: 4,5,6,7,8\n",
      "Enter evening shift sales separated by commas: 3,4\n",
      "$37.0\n"
     ]
    },
    {
     "data": {
      "text/plain": [
       "'Daily total sales is [4.0, 5.0, 6.0, 7.0, 8.0, 3.0, 4.0]'"
      ]
     },
     "execution_count": 2,
     "metadata": {},
     "output_type": "execute_result"
    }
   ],
   "source": [
    "def total_daily_sales():\n",
    "    global sales_shift_1\n",
    "    global sales_shift_2\n",
    "    global total_sales\n",
    "    \n",
    "    while True:\n",
    "        \n",
    "        try:\n",
    "            sales_shift_1 = input(\"Enter morning shift sales seperated by commas: \")\n",
    "            sales_shift_2 = input(\"Enter evening shift sales separated by commas: \")\n",
    "            \n",
    "            sales_shift_1 = [float(x) for x in sales_shift_1.split(',')]\n",
    "            sales_shift_2 = [float(x) for x in sales_shift_2.split(',')]\n",
    "            \n",
    "            break\n",
    "        except ValueError:\n",
    "            print('Please enter a valid number')\n",
    "    \n",
    "    \n",
    "    #sales_shift_1 = float(input('Enter your daily sales: '))\n",
    "    #sales_shift_2 = float(input('Enter your daily sales: '))\n",
    "    total_sales = sales_shift_1 + sales_shift_2\n",
    "    print(f'${sum(total_sales)}')\n",
    "    return f'Daily total sales is {total_sales}'\n",
    "total_daily_sales()"
   ]
  },
  {
   "cell_type": "markdown",
   "id": "42c47fde",
   "metadata": {},
   "source": []
  },
  {
   "cell_type": "markdown",
   "id": "46b0bd0b",
   "metadata": {},
   "source": [
    "### Calculate Worker's Salary: given hourly rate and hours worked by a worker. retrieve the worker's salary."
   ]
  },
  {
   "cell_type": "code",
   "execution_count": 4,
   "id": "5db8bd40",
   "metadata": {},
   "outputs": [],
   "source": [
    "def salary():\n",
    "    hourly_rates = 5\n",
    "    hours_worked = 8\n",
    "    salary = hourly_rates * hours_worked\n",
    "    return f'${salary}'"
   ]
  },
  {
   "cell_type": "code",
   "execution_count": 26,
   "id": "9a4e3776",
   "metadata": {},
   "outputs": [],
   "source": [
    "salary = salary()"
   ]
  },
  {
   "cell_type": "code",
   "execution_count": null,
   "id": "b1e8de49",
   "metadata": {},
   "outputs": [],
   "source": []
  },
  {
   "cell_type": "markdown",
   "id": "0940f4d9",
   "metadata": {},
   "source": [
    "### Calculate Profit: given a list of numbers representing total sales and total cost of items sold, find the profit.(or loss if negative)"
   ]
  },
  {
   "cell_type": "code",
   "execution_count": 6,
   "id": "024f22b1",
   "metadata": {},
   "outputs": [
    {
     "name": "stdout",
     "output_type": "stream",
     "text": [
      "Your loss is $-248.0\n"
     ]
    }
   ],
   "source": [
    "def profit():\n",
    "    total_costs = [50, 25, 80, 65, 20, 45]    \n",
    "    difference = sum(total_sales) - sum(total_costs)\n",
    "    \n",
    "    if difference > 0:\n",
    "        print(f'Your profit is ${difference}')\n",
    "    elif difference == 0:\n",
    "        print('You did not make profit or loss')\n",
    "    else:\n",
    "        print(f'Your loss is ${difference}')\n",
    "profit()"
   ]
  },
  {
   "cell_type": "code",
   "execution_count": null,
   "id": "9f1b9312",
   "metadata": {},
   "outputs": [],
   "source": []
  },
  {
   "cell_type": "markdown",
   "id": "a2aca94d",
   "metadata": {},
   "source": [
    "### Calculate Tips for a Shift: from sales data for a specific shift, workers get tipped for the shift (2% of shift sales)."
   ]
  },
  {
   "cell_type": "code",
   "execution_count": 58,
   "id": "363e2d40",
   "metadata": {},
   "outputs": [],
   "source": [
    "def tip_per_shift():\n",
    "    return sum(sales_shift_1) * 0.02\n",
    "    "
   ]
  },
  {
   "cell_type": "code",
   "execution_count": 59,
   "id": "25463cf6",
   "metadata": {},
   "outputs": [
    {
     "data": {
      "text/plain": [
       "5.04"
      ]
     },
     "execution_count": 59,
     "metadata": {},
     "output_type": "execute_result"
    }
   ],
   "source": [
    "tip_per_shift()"
   ]
  },
  {
   "cell_type": "code",
   "execution_count": null,
   "id": "44e8fc12",
   "metadata": {},
   "outputs": [],
   "source": []
  },
  {
   "cell_type": "markdown",
   "id": "10cffc1c",
   "metadata": {},
   "source": [
    "### Calculate Total Tips for the Day: with sales data for morning and evening shifts, return total tips for the day (sum of tips from both shifts)."
   ]
  },
  {
   "cell_type": "code",
   "execution_count": 14,
   "id": "e8d6e72f",
   "metadata": {},
   "outputs": [],
   "source": [
    "def total_tips():\n",
    "    total_tip = sum(total_sales) * 0.02\n",
    "    return total_tip"
   ]
  },
  {
   "cell_type": "code",
   "execution_count": 20,
   "id": "007d1e45",
   "metadata": {},
   "outputs": [],
   "source": [
    "totat_tip = total_tips()"
   ]
  },
  {
   "cell_type": "code",
   "execution_count": 21,
   "id": "4ebd7e78",
   "metadata": {},
   "outputs": [
    {
     "data": {
      "text/plain": [
       "0.74"
      ]
     },
     "execution_count": 21,
     "metadata": {},
     "output_type": "execute_result"
    }
   ],
   "source": [
    "totat_tip"
   ]
  },
  {
   "cell_type": "markdown",
   "id": "d151d5f2",
   "metadata": {},
   "source": [
    "### Create Salary sheets\n",
    "shift, total sales, hours worked, hourly rate, salary, total tips"
   ]
  },
  {
   "cell_type": "code",
   "execution_count": null,
   "id": "0d56b1c8",
   "metadata": {},
   "outputs": [],
   "source": [
    "def salary_sheets():\n",
    "    data = {'Total sales': total_sales, 'Salary': salary}"
   ]
  },
  {
   "cell_type": "code",
   "execution_count": null,
   "id": "17f91f3c",
   "metadata": {},
   "outputs": [],
   "source": []
  },
  {
   "cell_type": "code",
   "execution_count": 23,
   "id": "7966afd9",
   "metadata": {},
   "outputs": [
    {
     "name": "stdout",
     "output_type": "stream",
     "text": [
      "      Name  Age  Salary\n",
      "0    Alice   25   50000\n",
      "1      Bob   30   60000\n",
      "2  Charlie   35   75000\n"
     ]
    }
   ],
   "source": [
    "import pandas as pd\n",
    "\n",
    "# Your variables\n",
    "names = ['Alice', 'Bob', 'Charlie']\n",
    "ages = [25, 30, 35]\n",
    "salaries = [50000, 60000, 75000]\n",
    "\n",
    "# Create a dictionary from the variables\n",
    "data = {'Name': names, 'Age': ages, 'Salary': salaries}\n",
    "\n",
    "# Create a DataFrame from the dictionary\n",
    "df = pd.DataFrame(data)\n",
    "\n",
    "# Display the DataFrame\n",
    "print(df)\n"
   ]
  },
  {
   "cell_type": "code",
   "execution_count": 24,
   "id": "b1b78308",
   "metadata": {},
   "outputs": [
    {
     "data": {
      "text/html": [
       "<div>\n",
       "<style scoped>\n",
       "    .dataframe tbody tr th:only-of-type {\n",
       "        vertical-align: middle;\n",
       "    }\n",
       "\n",
       "    .dataframe tbody tr th {\n",
       "        vertical-align: top;\n",
       "    }\n",
       "\n",
       "    .dataframe thead th {\n",
       "        text-align: right;\n",
       "    }\n",
       "</style>\n",
       "<table border=\"1\" class=\"dataframe\">\n",
       "  <thead>\n",
       "    <tr style=\"text-align: right;\">\n",
       "      <th></th>\n",
       "      <th>Name</th>\n",
       "      <th>Age</th>\n",
       "      <th>Salary</th>\n",
       "    </tr>\n",
       "  </thead>\n",
       "  <tbody>\n",
       "    <tr>\n",
       "      <th>0</th>\n",
       "      <td>Alice</td>\n",
       "      <td>25</td>\n",
       "      <td>50000</td>\n",
       "    </tr>\n",
       "    <tr>\n",
       "      <th>1</th>\n",
       "      <td>Bob</td>\n",
       "      <td>30</td>\n",
       "      <td>60000</td>\n",
       "    </tr>\n",
       "    <tr>\n",
       "      <th>2</th>\n",
       "      <td>Charlie</td>\n",
       "      <td>35</td>\n",
       "      <td>75000</td>\n",
       "    </tr>\n",
       "  </tbody>\n",
       "</table>\n",
       "</div>"
      ],
      "text/plain": [
       "      Name  Age  Salary\n",
       "0    Alice   25   50000\n",
       "1      Bob   30   60000\n",
       "2  Charlie   35   75000"
      ]
     },
     "execution_count": 24,
     "metadata": {},
     "output_type": "execute_result"
    }
   ],
   "source": [
    "df"
   ]
  },
  {
   "cell_type": "code",
   "execution_count": null,
   "id": "86d53128",
   "metadata": {},
   "outputs": [],
   "source": []
  }
 ],
 "metadata": {
  "kernelspec": {
   "display_name": "Python 3 (ipykernel)",
   "language": "python",
   "name": "python3"
  },
  "language_info": {
   "codemirror_mode": {
    "name": "ipython",
    "version": 3
   },
   "file_extension": ".py",
   "mimetype": "text/x-python",
   "name": "python",
   "nbconvert_exporter": "python",
   "pygments_lexer": "ipython3",
   "version": "3.11.4"
  }
 },
 "nbformat": 4,
 "nbformat_minor": 5
}
