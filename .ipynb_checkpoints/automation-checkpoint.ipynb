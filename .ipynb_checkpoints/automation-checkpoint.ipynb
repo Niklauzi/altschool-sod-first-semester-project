{
 "cells": [
  {
   "cell_type": "markdown",
   "id": "3d8d3fc6",
   "metadata": {},
   "source": [
    "# First Semester Project: Automating Accounting Procedures for a Business(Individual Project)\n",
    "\n",
    "\n",
    "## Project Overview:\n",
    "\n",
    "A local retail business, dealing with a variety of products, aims to streamline and automate its accounting procedures. The business operates two shifts per day with one worker on each shift. The primary goal is to create a Python project that assists in automating essential accounting tasks, including calculating total sales, worker salaries, profit, tips, and total tips for the day.\n",
    "## Key Features:\n",
    "\n",
    "Calculate Total Sales for the Day: from sales data for morning and evening shifts, produce total sales for the day.\n",
    "\n",
    "Calculate Worker's Salary: given hourly rate and hours worked by a worker. retrieve the worker's salary.\n",
    "\n",
    "Calculate Profit: given a list of numbers representing total sales and total cost of items sold, find the profit.(or loss if negative)\n",
    "\n",
    "Calculate Tips for a Shift: from sales data for a specific shift, workers get tipped for the shift (2% of shift sales).\n",
    "\n",
    "Calculate Total Tips for the Day: with sales data for morning and evening shifts, return total tips for the day (sum of tips from both shifts).\n",
    "\tThink of your shift sales as a list.\n",
    "User Interface:\n",
    "Create a user-friendly interface that displays a menu of available operations.\n",
    "Accept user input to choose the desired operation (1-4) or exit (5).\n",
    "### Input Handling:\n",
    "Prompt the user to enter numbers for each operation.\n",
    "Ensure that the program handles invalid inputs gracefully (e.g., non-numeric inputs).\n",
    "### Result Display:\n",
    "Display the result of the selected operation clearly to the user.\n",
    "### Program Loop:\n",
    "Implement a loop that allows the user to perform multiple calculations until choosing to exit.\n",
    "Project Structure:\n",
    "Organize your code into functions to encapsulate specific operations.\n",
    "Maintain a clear separation between function definitions and the main program.\n",
    "### Error Handling:\n",
    "Include error handling for scenarios such as division by zero.\n",
    "Exiting the Program:\n",
    "Provide an option for users to exit the  program.\n",
    "\n",
    "\n",
    "### Submission:\n",
    "Submit your project as a well-organized Python script (automation.py) with comments explaining each function. Discuss the challenges you encountered while working on this. Ensure that your code is readable, and use meaningful variable names.\n",
    " Submission Link\n",
    "### Tips:\n",
    "Test your program thoroughly with various inputs to ensure it works correctly.\n",
    "Structure your code in a way that makes it easy to understand and maintain.\n",
    "Experiment with additional features if you're comfortable, but focus on meeting the basic requirements first.\n",
    "\n",
    "\n"
   ]
  },
  {
   "cell_type": "markdown",
   "id": "c3857bb9",
   "metadata": {},
   "source": [
    "### Calculate Total Sales for the Day: from sales data for morning and evening shifts, produce total sales for the day."
   ]
  },
  {
   "cell_type": "code",
   "execution_count": 10,
   "id": "4b084035",
   "metadata": {},
   "outputs": [],
   "source": [
    "import pandas as pd"
   ]
  },
  {
   "cell_type": "code",
   "execution_count": 11,
   "id": "35c7ef6b",
   "metadata": {},
   "outputs": [],
   "source": [
    "def total_daily_sales():\n",
    "    \n",
    "    while True:\n",
    "        \n",
    "        try:\n",
    "            sales_shift_1 = input(\"Enter morning shift sales seperated by commas: \")\n",
    "            sales_shift_2 = input(\"Enter evening shift sales separated by commas: \")\n",
    "            \n",
    "            sales_shift_1 = [float(x) for x in sales_shift_1.split(',')]\n",
    "            sales_shift_2 = [float(x) for x in sales_shift_2.split(',')]\n",
    "            \n",
    "            break\n",
    "        except ValueError:\n",
    "            print('Please enter a valid number')\n",
    "    \n",
    "    total_sales = sales_shift_1 + sales_shift_2\n",
    "    print(f'${sum(total_sales)}')\n",
    "    return total_sales\n",
    "\n",
    "def salary():\n",
    "    hourly_rates = 5\n",
    "    hours_worked = 8\n",
    "    salary_value = hourly_rates * hours_worked\n",
    "    print(salary_value)\n",
    "    return salary_value\n",
    "    \n",
    "    \n",
    "def profit(total_sales):\n",
    "    total_costs = [50, 25, 80, 65, 20, 45]    \n",
    "    difference = sum(total_sales) - sum(total_costs)\n",
    "    \n",
    "    if difference > 0:\n",
    "        print(f'Your profit is ${difference}')\n",
    "    elif difference == 0:\n",
    "        print('You did not make profit or loss')\n",
    "    else:\n",
    "        print(f'Your loss is ${difference}')\n",
    "\n",
    "        \n",
    "def tip_per_shift(sales_shift_1, sales_shift_2):\n",
    "    shift_choice = input(\"Enter '1' for morning shift or '2' for evening shift: \")\n",
    "    if shift_choice == '1':\n",
    "        tip = sum(sales_shift_1) * 0.02\n",
    "        print(f'Tip for morning shift: ${tip}')\n",
    "    elif shift_choice == '2':\n",
    "        tip = sum(sales_shift_2) * 0.02\n",
    "        print(f'Tip for evening shift: ${tip}')\n",
    "    else:\n",
    "        print('Invalid choice. Please enter either \"1\" or \"2\".')\n",
    "    \n",
    "    \n",
    "def total_tips(total_sales):\n",
    "    total_tip = sum(total_sales) * 0.02\n",
    "    print(f'total tip is {total_tip}')\n",
    "    return total_tip\n"
   ]
  },
  {
   "cell_type": "code",
   "execution_count": 12,
   "id": "69d93e2c",
   "metadata": {},
   "outputs": [
    {
     "ename": "IndentationError",
     "evalue": "expected an indented block after 'if' statement on line 15 (3419823857.py, line 19)",
     "output_type": "error",
     "traceback": [
      "\u001b[1;36m  Cell \u001b[1;32mIn[12], line 19\u001b[1;36m\u001b[0m\n\u001b[1;33m    elif choice == '2':\u001b[0m\n\u001b[1;37m    ^\u001b[0m\n\u001b[1;31mIndentationError\u001b[0m\u001b[1;31m:\u001b[0m expected an indented block after 'if' statement on line 15\n"
     ]
    }
   ],
   "source": [
    "def automation():\n",
    "    \n",
    "    while True:  \n",
    "        print(\"\\nAutomation\")\n",
    "        print(\"1. Calculate total sales\")\n",
    "        print(\"2. Calculate Salary\")\n",
    "        print(\"3. Calculate Profit or Loss\")\n",
    "        print(\"4. Calculate Tip for a shift\")\n",
    "        print(\"5. Calculate total Tips for a the day\")\n",
    "        print(\"6. Exit Program\")\n",
    "        \n",
    "        \n",
    "\n",
    "        choice = input(\"Enter your choice from (1-7): \")\n",
    "        if choice == '1':\n",
    "            total_sales = total_daily_sales()\n",
    "#             sales_shift_1 = total_sales[:len(total_sales)//2]\n",
    "#             sales_shift_2 = total_sales[len(total_sales)//2:]\n",
    "        elif choice == '2':\n",
    "            salary_value = salary()\n",
    "        elif choice == '3':\n",
    "            if not total_sales:\n",
    "                print(\"Please calculate total sales (option 1) before calculating profit.\")\n",
    "            else:\n",
    "                profit(total_sales)\n",
    "        elif choice == '4':\n",
    "            if not sales_shift_1 or not sales_shift_2:\n",
    "                print(\"Please calculate total sales (option 1) before calculating tip for a shift.\")\n",
    "            else:\n",
    "                tip_per_shift(sales_shift_1, sales_shift_2)\n",
    "        elif choice == '5':\n",
    "            if not total_sales:\n",
    "                print(\"Please calculate total sales (option 1) before calculating total tips.\")\n",
    "            else:\n",
    "                total_tips(total_sales)\n",
    "        elif choice == '6':\n",
    "            print('Exiting program.')\n",
    "            break\n",
    "        \n",
    "        else:\n",
    "            print('Invalid choice. Please enter a number between 1 and 6.')"
   ]
  },
  {
   "cell_type": "code",
   "execution_count": 13,
   "id": "6194903f",
   "metadata": {},
   "outputs": [
    {
     "name": "stdout",
     "output_type": "stream",
     "text": [
      "\n",
      "Automation\n",
      "1. Calculate total sales\n",
      "2. Calculate Salary\n",
      "3. Calculate Profit or Loss\n",
      "4. Calculate Tip for a shift\n",
      "5. Calculate total Tips for a the day\n",
      "6. Print payslip\n",
      "7. Exit Program\n",
      "Enter your choice from (1-7): 1\n",
      "Enter morning shift sales seperated by commas: 50,40\n",
      "Enter evening shift sales separated by commas: 521\n",
      "$611.0\n",
      "\n",
      "Automation\n",
      "1. Calculate total sales\n",
      "2. Calculate Salary\n",
      "3. Calculate Profit or Loss\n",
      "4. Calculate Tip for a shift\n",
      "5. Calculate total Tips for a the day\n",
      "6. Print payslip\n",
      "7. Exit Program\n",
      "Enter your choice from (1-7): 2\n",
      "40\n",
      "\n",
      "Automation\n",
      "1. Calculate total sales\n",
      "2. Calculate Salary\n",
      "3. Calculate Profit or Loss\n",
      "4. Calculate Tip for a shift\n",
      "5. Calculate total Tips for a the day\n",
      "6. Print payslip\n",
      "7. Exit Program\n",
      "Enter your choice from (1-7): 3\n",
      "Your profit is $326.0\n",
      "\n",
      "Automation\n",
      "1. Calculate total sales\n",
      "2. Calculate Salary\n",
      "3. Calculate Profit or Loss\n",
      "4. Calculate Tip for a shift\n",
      "5. Calculate total Tips for a the day\n",
      "6. Print payslip\n",
      "7. Exit Program\n",
      "Enter your choice from (1-7): 4\n",
      "Enter '1' for morning shift or '2' for evening shift: 1\n",
      "Tip for morning shift: $1.0\n",
      "\n",
      "Automation\n",
      "1. Calculate total sales\n",
      "2. Calculate Salary\n",
      "3. Calculate Profit or Loss\n",
      "4. Calculate Tip for a shift\n",
      "5. Calculate total Tips for a the day\n",
      "6. Print payslip\n",
      "7. Exit Program\n",
      "Enter your choice from (1-7): 4\n",
      "Enter '1' for morning shift or '2' for evening shift: 2\n",
      "Tip for evening shift: $11.22\n",
      "\n",
      "Automation\n",
      "1. Calculate total sales\n",
      "2. Calculate Salary\n",
      "3. Calculate Profit or Loss\n",
      "4. Calculate Tip for a shift\n",
      "5. Calculate total Tips for a the day\n",
      "6. Print payslip\n",
      "7. Exit Program\n",
      "Enter your choice from (1-7): 5\n",
      "total tip is 12.22\n",
      "\n",
      "Automation\n",
      "1. Calculate total sales\n",
      "2. Calculate Salary\n",
      "3. Calculate Profit or Loss\n",
      "4. Calculate Tip for a shift\n",
      "5. Calculate total Tips for a the day\n",
      "6. Print payslip\n",
      "7. Exit Program\n",
      "Enter your choice from (1-7): 6\n"
     ]
    },
    {
     "ename": "PermissionError",
     "evalue": "[Errno 13] Permission denied: 'payslip.csv'",
     "output_type": "error",
     "traceback": [
      "\u001b[1;31m---------------------------------------------------------------------------\u001b[0m",
      "\u001b[1;31mPermissionError\u001b[0m                           Traceback (most recent call last)",
      "Cell \u001b[1;32mIn[13], line 1\u001b[0m\n\u001b[1;32m----> 1\u001b[0m automation()\n",
      "Cell \u001b[1;32mIn[4], line 41\u001b[0m, in \u001b[0;36mautomation\u001b[1;34m()\u001b[0m\n\u001b[0;32m     39\u001b[0m \u001b[38;5;28;01melif\u001b[39;00m choice \u001b[38;5;241m==\u001b[39m \u001b[38;5;124m'\u001b[39m\u001b[38;5;124m6\u001b[39m\u001b[38;5;124m'\u001b[39m:\n\u001b[0;32m     40\u001b[0m     Date \u001b[38;5;241m=\u001b[39m datetime\u001b[38;5;241m.\u001b[39mnow()\u001b[38;5;241m.\u001b[39mstrftime(\u001b[38;5;124m'\u001b[39m\u001b[38;5;124m%\u001b[39m\u001b[38;5;124mY-\u001b[39m\u001b[38;5;124m%\u001b[39m\u001b[38;5;124mm-\u001b[39m\u001b[38;5;132;01m%d\u001b[39;00m\u001b[38;5;124m'\u001b[39m)\n\u001b[1;32m---> 41\u001b[0m     pay_slip(Date, sales_shift_1, sales_shift_2, total_sales, salary_value, total_tip)\n\u001b[0;32m     42\u001b[0m     \u001b[38;5;28mprint\u001b[39m(\u001b[38;5;124m'\u001b[39m\u001b[38;5;124mData saved to CSV.\u001b[39m\u001b[38;5;124m'\u001b[39m)\n\u001b[0;32m     43\u001b[0m \u001b[38;5;28;01melif\u001b[39;00m choice \u001b[38;5;241m==\u001b[39m \u001b[38;5;124m'\u001b[39m\u001b[38;5;124m7\u001b[39m\u001b[38;5;124m'\u001b[39m:\n",
      "Cell \u001b[1;32mIn[3], line 59\u001b[0m, in \u001b[0;36mpay_slip\u001b[1;34m(Date, sales_shift_1, sales_shift_2, total_sales, salary_value, total_tip)\u001b[0m\n\u001b[0;32m     58\u001b[0m \u001b[38;5;28;01mdef\u001b[39;00m \u001b[38;5;21mpay_slip\u001b[39m(Date, sales_shift_1, sales_shift_2, total_sales, salary_value, total_tip):\n\u001b[1;32m---> 59\u001b[0m     \u001b[38;5;28;01mwith\u001b[39;00m \u001b[38;5;28mopen\u001b[39m(\u001b[38;5;124m'\u001b[39m\u001b[38;5;124mpayslip.csv\u001b[39m\u001b[38;5;124m'\u001b[39m, \u001b[38;5;124m'\u001b[39m\u001b[38;5;124ma\u001b[39m\u001b[38;5;124m'\u001b[39m) \u001b[38;5;28;01mas\u001b[39;00m file:\n\u001b[0;32m     60\u001b[0m         file\u001b[38;5;241m.\u001b[39mwrite(\u001b[38;5;124mf\u001b[39m\u001b[38;5;124m'\u001b[39m\u001b[38;5;132;01m{\u001b[39;00mDate\u001b[38;5;132;01m}\u001b[39;00m\u001b[38;5;124m, \u001b[39m\u001b[38;5;132;01m{\u001b[39;00msales_shift_1\u001b[38;5;132;01m}\u001b[39;00m\u001b[38;5;124m, \u001b[39m\u001b[38;5;132;01m{\u001b[39;00msales_shift_2\u001b[38;5;132;01m}\u001b[39;00m\u001b[38;5;124m, \u001b[39m\u001b[38;5;132;01m{\u001b[39;00m\u001b[38;5;28msum\u001b[39m(total_sales)\u001b[38;5;132;01m}\u001b[39;00m\u001b[38;5;124m, \u001b[39m\u001b[38;5;132;01m{\u001b[39;00msalary_value\u001b[38;5;250m \u001b[39m\u001b[38;5;241m+\u001b[39m\u001b[38;5;250m \u001b[39mtotal_tip\u001b[38;5;132;01m}\u001b[39;00m\u001b[38;5;130;01m\\n\u001b[39;00m\u001b[38;5;124m'\u001b[39m)\n\u001b[0;32m     61\u001b[0m         \u001b[38;5;28mprint\u001b[39m(\u001b[38;5;124m'\u001b[39m\u001b[38;5;124mPay slip data added successfully.\u001b[39m\u001b[38;5;124m'\u001b[39m)\n",
      "File \u001b[1;32m~\\reptile\\Lib\\site-packages\\IPython\\core\\interactiveshell.py:284\u001b[0m, in \u001b[0;36m_modified_open\u001b[1;34m(file, *args, **kwargs)\u001b[0m\n\u001b[0;32m    277\u001b[0m \u001b[38;5;28;01mif\u001b[39;00m file \u001b[38;5;129;01min\u001b[39;00m {\u001b[38;5;241m0\u001b[39m, \u001b[38;5;241m1\u001b[39m, \u001b[38;5;241m2\u001b[39m}:\n\u001b[0;32m    278\u001b[0m     \u001b[38;5;28;01mraise\u001b[39;00m \u001b[38;5;167;01mValueError\u001b[39;00m(\n\u001b[0;32m    279\u001b[0m         \u001b[38;5;124mf\u001b[39m\u001b[38;5;124m\"\u001b[39m\u001b[38;5;124mIPython won\u001b[39m\u001b[38;5;124m'\u001b[39m\u001b[38;5;124mt let you open fd=\u001b[39m\u001b[38;5;132;01m{\u001b[39;00mfile\u001b[38;5;132;01m}\u001b[39;00m\u001b[38;5;124m by default \u001b[39m\u001b[38;5;124m\"\u001b[39m\n\u001b[0;32m    280\u001b[0m         \u001b[38;5;124m\"\u001b[39m\u001b[38;5;124mas it is likely to crash IPython. If you know what you are doing, \u001b[39m\u001b[38;5;124m\"\u001b[39m\n\u001b[0;32m    281\u001b[0m         \u001b[38;5;124m\"\u001b[39m\u001b[38;5;124myou can use builtins\u001b[39m\u001b[38;5;124m'\u001b[39m\u001b[38;5;124m open.\u001b[39m\u001b[38;5;124m\"\u001b[39m\n\u001b[0;32m    282\u001b[0m     )\n\u001b[1;32m--> 284\u001b[0m \u001b[38;5;28;01mreturn\u001b[39;00m io_open(file, \u001b[38;5;241m*\u001b[39margs, \u001b[38;5;241m*\u001b[39m\u001b[38;5;241m*\u001b[39mkwargs)\n",
      "\u001b[1;31mPermissionError\u001b[0m: [Errno 13] Permission denied: 'payslip.csv'"
     ]
    }
   ],
   "source": [
    "automation()"
   ]
  },
  {
   "cell_type": "code",
   "execution_count": 21,
   "id": "2c8494a2",
   "metadata": {},
   "outputs": [
    {
     "name": "stdout",
     "output_type": "stream",
     "text": [
      "Empty DataFrame\n",
      "Columns: [2023-12-26,  [50.0],  [30.0],  80.0,  40]\n",
      "Index: []\n"
     ]
    }
   ],
   "source": [
    "import pandas as pd\n",
    "\n",
    "def view_payslip_data():\n",
    "    try:\n",
    "        payslip_df = pd.read_csv('payslip.csv')\n",
    "        return payslip_df\n",
    "    except FileNotFoundError:\n",
    "        print('Payslip file not found. No data available.')\n",
    "        return pd.DataFrame()\n",
    "\n",
    "# Example usage:\n",
    "payslip_data = view_payslip_data()\n",
    "print(payslip_data)\n"
   ]
  },
  {
   "cell_type": "code",
   "execution_count": 26,
   "id": "de4377bc",
   "metadata": {},
   "outputs": [
    {
     "data": {
      "text/html": [
       "<div>\n",
       "<style scoped>\n",
       "    .dataframe tbody tr th:only-of-type {\n",
       "        vertical-align: middle;\n",
       "    }\n",
       "\n",
       "    .dataframe tbody tr th {\n",
       "        vertical-align: top;\n",
       "    }\n",
       "\n",
       "    .dataframe thead th {\n",
       "        text-align: right;\n",
       "    }\n",
       "</style>\n",
       "<table border=\"1\" class=\"dataframe\">\n",
       "  <thead>\n",
       "    <tr style=\"text-align: right;\">\n",
       "      <th></th>\n",
       "      <th>2023-12-26</th>\n",
       "      <th>[50.0]</th>\n",
       "      <th>[30.0]</th>\n",
       "      <th>80.0</th>\n",
       "      <th>40</th>\n",
       "    </tr>\n",
       "  </thead>\n",
       "  <tbody>\n",
       "  </tbody>\n",
       "</table>\n",
       "</div>"
      ],
      "text/plain": [
       "Empty DataFrame\n",
       "Columns: [2023-12-26,  [50.0],  [30.0],  80.0,  40]\n",
       "Index: []"
      ]
     },
     "execution_count": 26,
     "metadata": {},
     "output_type": "execute_result"
    }
   ],
   "source": [
    "view_payslip_data()"
   ]
  },
  {
   "cell_type": "markdown",
   "id": "75a67031",
   "metadata": {},
   "source": [
    "### Calculate Worker's Salary: given hourly rate and hours worked by a worker. retrieve the worker's salary."
   ]
  },
  {
   "cell_type": "code",
   "execution_count": 10,
   "id": "b131b760",
   "metadata": {},
   "outputs": [],
   "source": [
    "def salary():\n",
    "    hourly_rates = 5\n",
    "    hours_worked = 8\n",
    "    salary = hourly_rates * hours_worked\n",
    "    print(salary)"
   ]
  },
  {
   "cell_type": "code",
   "execution_count": null,
   "id": "c9b15ce3",
   "metadata": {},
   "outputs": [],
   "source": []
  },
  {
   "cell_type": "code",
   "execution_count": null,
   "id": "86d075a6",
   "metadata": {},
   "outputs": [],
   "source": []
  },
  {
   "cell_type": "markdown",
   "id": "a5554b13",
   "metadata": {},
   "source": [
    "### Calculate Profit: given a list of numbers representing total sales and total cost of items sold, find the profit.(or loss if negative)"
   ]
  },
  {
   "cell_type": "code",
   "execution_count": 11,
   "id": "ff246785",
   "metadata": {},
   "outputs": [],
   "source": [
    "def profit():\n",
    "    total_costs = [50, 25, 80, 65, 20, 45]    \n",
    "    difference = sum(total_sales) - sum(total_costs)\n",
    "    \n",
    "    if difference > 0:\n",
    "        print(f'Your profit is ${difference}')\n",
    "    elif difference == 0:\n",
    "        print('You did not make profit or loss')\n",
    "    else:\n",
    "        print(f'Your loss is ${difference}')\n"
   ]
  },
  {
   "cell_type": "code",
   "execution_count": null,
   "id": "07b52b34",
   "metadata": {},
   "outputs": [],
   "source": []
  },
  {
   "cell_type": "markdown",
   "id": "b46578f2",
   "metadata": {},
   "source": [
    "### Calculate Tips for a Shift: from sales data for a specific shift, workers get tipped for the shift (2% of shift sales)."
   ]
  },
  {
   "cell_type": "code",
   "execution_count": 12,
   "id": "ed1768cd",
   "metadata": {},
   "outputs": [],
   "source": [
    "def tip_per_shift():\n",
    "     print(sum(sales_shift_1) * 0.02)\n",
    "    "
   ]
  },
  {
   "cell_type": "code",
   "execution_count": null,
   "id": "847c7016",
   "metadata": {},
   "outputs": [],
   "source": []
  },
  {
   "cell_type": "code",
   "execution_count": null,
   "id": "3769ad30",
   "metadata": {},
   "outputs": [],
   "source": []
  },
  {
   "cell_type": "markdown",
   "id": "8b479539",
   "metadata": {},
   "source": [
    "### Calculate Total Tips for the Day: with sales data for morning and evening shifts, return total tips for the day (sum of tips from both shifts)."
   ]
  },
  {
   "cell_type": "code",
   "execution_count": 13,
   "id": "e9b93845",
   "metadata": {},
   "outputs": [],
   "source": [
    "def total_tips():\n",
    "    total_tip = sum(total_sales) * 0.02\n",
    "    print(total_tip)"
   ]
  },
  {
   "cell_type": "code",
   "execution_count": null,
   "id": "efe646cd",
   "metadata": {},
   "outputs": [],
   "source": []
  },
  {
   "cell_type": "code",
   "execution_count": null,
   "id": "0a1eee89",
   "metadata": {},
   "outputs": [],
   "source": []
  },
  {
   "cell_type": "code",
   "execution_count": null,
   "id": "4c88e03d",
   "metadata": {},
   "outputs": [],
   "source": [
    "def automation():\n",
    "    total_sales = []\n",
    "    while True:  \n",
    "        print(\"\\nAutomation\")\n",
    "        print(\"1. Calculate total sales\")\n",
    "        print(\"2. Calculate Salary\")\n",
    "        print(\"3. Calculate Profit or Loss\")\n",
    "        print(\"4. Calculate Tip for a shift\")\n",
    "        print(\"5. Calculate total Tips for a the day\")\n",
    "        print(\"6. Exit program\")\n",
    "\n",
    "        choice = input(\"Enter your choice from (1-6): \")\n",
    "        if choice == '1':\n",
    "            total_sales = total_daily_sales()\n",
    "        elif choice == '2':\n",
    "            salary()\n",
    "        elif choice == '3':\n",
    "            if not total_sales:\n",
    "                print(\"Please calculate total sales (option 1) before calculating profit.\")\n",
    "            else:\n",
    "                profit(total_sales)\n",
    "        elif choice == '4':\n",
    "            if not total_sales:\n",
    "                print(\"Please calculate total sales (option 1) before calculating tip for a shift.\")\n",
    "            else:\n",
    "                tip_per_shift()\n",
    "        elif choice == '5':\n",
    "            if not total_sales:\n",
    "                print(\"Please calculate total sales (option 1) before calculating total tips.\")\n",
    "            else:\n",
    "                total_tips(total_sales)\n",
    "        elif choice == '6':\n",
    "            break\n",
    "        else:\n",
    "            print('Invalid choice. Please enter a number between 1 and 6.')"
   ]
  },
  {
   "cell_type": "code",
   "execution_count": 16,
   "id": "1c8554de",
   "metadata": {},
   "outputs": [
    {
     "name": "stdout",
     "output_type": "stream",
     "text": [
      "\n",
      "Automation\n",
      "1. Calculate total sales\n",
      "2. Calculate Salary\n",
      "3. Calculate Profit or Loss\n",
      "4. Calculate Tip for a shift\n",
      "5. Calculate total Tips for a the day\n",
      "6. Exit program\n",
      "Enter your choice from (1-6): 6\n"
     ]
    }
   ],
   "source": [
    "automation()"
   ]
  },
  {
   "cell_type": "markdown",
   "id": "56d5192f",
   "metadata": {},
   "source": [
    "### Create Salary sheets\n",
    "shift, total sales, hours worked, hourly rate, salary, total tips"
   ]
  },
  {
   "cell_type": "code",
   "execution_count": 104,
   "id": "1a4e6b6a",
   "metadata": {},
   "outputs": [],
   "source": [
    "def salary_sheets():\n",
    "    dataa = {'Total sales': total_sales_sum, 'Salary': salary, 'Total tips': totat_tip}\n",
    "    dff = pd.DataFrame(dataa)\n",
    "    \n",
    "    return dff"
   ]
  },
  {
   "cell_type": "code",
   "execution_count": null,
   "id": "6f4da60b",
   "metadata": {},
   "outputs": [],
   "source": []
  },
  {
   "cell_type": "code",
   "execution_count": 87,
   "id": "c33233fc",
   "metadata": {},
   "outputs": [
    {
     "name": "stdout",
     "output_type": "stream",
     "text": [
      "      Name  Age  Salary\n",
      "0    Alice   25   50000\n",
      "1      Bob   30   60000\n",
      "2  Charlie   35   75000\n"
     ]
    }
   ],
   "source": [
    "import pandas as pd\n",
    "\n",
    "# Your variables\n",
    "names = ['Alice', 'Bob', 'Charlie']\n",
    "ages = [25, 30, 35]\n",
    "salaries = [50000, 60000, 75000]\n",
    "\n",
    "# Create a dictionary from the variables\n",
    "data = {'Name': names, 'Age': ages, 'Salary': salaries}\n",
    "\n",
    "# Create a DataFrame from the dictionary\n",
    "df = pd.DataFrame(data)\n",
    "\n",
    "# Display the DataFrame\n",
    "print(df)\n"
   ]
  },
  {
   "cell_type": "code",
   "execution_count": 88,
   "id": "3e2c11f8",
   "metadata": {},
   "outputs": [
    {
     "data": {
      "text/html": [
       "<div>\n",
       "<style scoped>\n",
       "    .dataframe tbody tr th:only-of-type {\n",
       "        vertical-align: middle;\n",
       "    }\n",
       "\n",
       "    .dataframe tbody tr th {\n",
       "        vertical-align: top;\n",
       "    }\n",
       "\n",
       "    .dataframe thead th {\n",
       "        text-align: right;\n",
       "    }\n",
       "</style>\n",
       "<table border=\"1\" class=\"dataframe\">\n",
       "  <thead>\n",
       "    <tr style=\"text-align: right;\">\n",
       "      <th></th>\n",
       "      <th>Name</th>\n",
       "      <th>Age</th>\n",
       "      <th>Salary</th>\n",
       "    </tr>\n",
       "  </thead>\n",
       "  <tbody>\n",
       "    <tr>\n",
       "      <th>0</th>\n",
       "      <td>Alice</td>\n",
       "      <td>25</td>\n",
       "      <td>50000</td>\n",
       "    </tr>\n",
       "    <tr>\n",
       "      <th>1</th>\n",
       "      <td>Bob</td>\n",
       "      <td>30</td>\n",
       "      <td>60000</td>\n",
       "    </tr>\n",
       "    <tr>\n",
       "      <th>2</th>\n",
       "      <td>Charlie</td>\n",
       "      <td>35</td>\n",
       "      <td>75000</td>\n",
       "    </tr>\n",
       "  </tbody>\n",
       "</table>\n",
       "</div>"
      ],
      "text/plain": [
       "      Name  Age  Salary\n",
       "0    Alice   25   50000\n",
       "1      Bob   30   60000\n",
       "2  Charlie   35   75000"
      ]
     },
     "execution_count": 88,
     "metadata": {},
     "output_type": "execute_result"
    }
   ],
   "source": [
    "df"
   ]
  },
  {
   "cell_type": "code",
   "execution_count": null,
   "id": "ad25d11c",
   "metadata": {},
   "outputs": [],
   "source": []
  }
 ],
 "metadata": {
  "kernelspec": {
   "display_name": "Python 3 (ipykernel)",
   "language": "python",
   "name": "python3"
  },
  "language_info": {
   "codemirror_mode": {
    "name": "ipython",
    "version": 3
   },
   "file_extension": ".py",
   "mimetype": "text/x-python",
   "name": "python",
   "nbconvert_exporter": "python",
   "pygments_lexer": "ipython3",
   "version": "3.11.4"
  }
 },
 "nbformat": 4,
 "nbformat_minor": 5
}
