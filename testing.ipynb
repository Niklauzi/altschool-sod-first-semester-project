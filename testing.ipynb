{
 "cells": [
  {
   "cell_type": "code",
   "execution_count": 1,
   "id": "9f0ce01f",
   "metadata": {},
   "outputs": [],
   "source": [
    "from automation import automation"
   ]
  },
  {
   "cell_type": "code",
   "execution_count": 2,
   "id": "451bfbd9",
   "metadata": {},
   "outputs": [
    {
     "name": "stdout",
     "output_type": "stream",
     "text": [
      "\n",
      "Automation\n",
      "1. Calculate total sales\n",
      "2. Calculate Salary\n",
      "3. Calculate Profit or Loss\n",
      "4. Calculate Tip for a shift\n",
      "5. Calculate total Tips for a the day\n",
      "6. Exit Program\n",
      "Enter your choice from (1-6): 1\n",
      "Enter morning shift sales seperated by commas: 50,80\n",
      "Enter evening shift sales separated by commas: 66,12\n",
      "Total sale is $208.00\n",
      "\n",
      "Automation\n",
      "1. Calculate total sales\n",
      "2. Calculate Salary\n",
      "3. Calculate Profit or Loss\n",
      "4. Calculate Tip for a shift\n",
      "5. Calculate total Tips for a the day\n",
      "6. Exit Program\n",
      "Enter your choice from (1-6): 2\n",
      " Salary for 8 hour shift is $40.00\n",
      "\n",
      "Automation\n",
      "1. Calculate total sales\n",
      "2. Calculate Salary\n",
      "3. Calculate Profit or Loss\n",
      "4. Calculate Tip for a shift\n",
      "5. Calculate total Tips for a the day\n",
      "6. Exit Program\n",
      "Enter your choice from (1-6): 3\n",
      "Your loss is $-77.00\n",
      "\n",
      "Automation\n",
      "1. Calculate total sales\n",
      "2. Calculate Salary\n",
      "3. Calculate Profit or Loss\n",
      "4. Calculate Tip for a shift\n",
      "5. Calculate total Tips for a the day\n",
      "6. Exit Program\n",
      "Enter your choice from (1-6): 4\n",
      "Enter '1' for morning shift or '2' for evening shift: 1\n",
      "Tip for morning shift: $2.60\n",
      "\n",
      "Automation\n",
      "1. Calculate total sales\n",
      "2. Calculate Salary\n",
      "3. Calculate Profit or Loss\n",
      "4. Calculate Tip for a shift\n",
      "5. Calculate total Tips for a the day\n",
      "6. Exit Program\n",
      "Enter your choice from (1-6): 2\n",
      " Salary for 8 hour shift is $40.00\n",
      "\n",
      "Automation\n",
      "1. Calculate total sales\n",
      "2. Calculate Salary\n",
      "3. Calculate Profit or Loss\n",
      "4. Calculate Tip for a shift\n",
      "5. Calculate total Tips for a the day\n",
      "6. Exit Program\n",
      "Enter your choice from (1-6): 4\n",
      "Enter '1' for morning shift or '2' for evening shift: 2\n",
      "Tip for evening shift: $1.56\n",
      "\n",
      "Automation\n",
      "1. Calculate total sales\n",
      "2. Calculate Salary\n",
      "3. Calculate Profit or Loss\n",
      "4. Calculate Tip for a shift\n",
      "5. Calculate total Tips for a the day\n",
      "6. Exit Program\n",
      "Enter your choice from (1-6): 5\n",
      "total tip is 4.16\n",
      "\n",
      "Automation\n",
      "1. Calculate total sales\n",
      "2. Calculate Salary\n",
      "3. Calculate Profit or Loss\n",
      "4. Calculate Tip for a shift\n",
      "5. Calculate total Tips for a the day\n",
      "6. Exit Program\n",
      "Enter your choice from (1-6): 6\n",
      "Exiting program.\n"
     ]
    }
   ],
   "source": [
    "automation()"
   ]
  },
  {
   "cell_type": "code",
   "execution_count": null,
   "id": "793ea208",
   "metadata": {},
   "outputs": [],
   "source": []
  },
  {
   "cell_type": "code",
   "execution_count": null,
   "id": "5dc8ad7d",
   "metadata": {},
   "outputs": [],
   "source": []
  },
  {
   "cell_type": "code",
   "execution_count": null,
   "id": "5793ef89",
   "metadata": {},
   "outputs": [],
   "source": []
  }
 ],
 "metadata": {
  "kernelspec": {
   "display_name": "Python 3 (ipykernel)",
   "language": "python",
   "name": "python3"
  },
  "language_info": {
   "codemirror_mode": {
    "name": "ipython",
    "version": 3
   },
   "file_extension": ".py",
   "mimetype": "text/x-python",
   "name": "python",
   "nbconvert_exporter": "python",
   "pygments_lexer": "ipython3",
   "version": "3.11.4"
  }
 },
 "nbformat": 4,
 "nbformat_minor": 5
}
